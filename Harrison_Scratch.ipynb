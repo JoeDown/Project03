{
 "cells": [
  {
   "cell_type": "code",
   "execution_count": 1,
   "metadata": {},
   "outputs": [
    {
     "data": {
      "text/plain": [
       "'/Users/flatironstudentaccount/Documents/course-material/Projects/Project03/Project03_v2/Project03'"
      ]
     },
     "execution_count": 1,
     "metadata": {},
     "output_type": "execute_result"
    }
   ],
   "source": [
    "pwd"
   ]
  },
  {
   "cell_type": "code",
   "execution_count": null,
   "metadata": {},
   "outputs": [],
   "source": [
    "jupyter nbconvert /Users/flatironstudentaccount/Documents/course-material/Projects/Project03/Project03_v2/Project03/Mod3_Final.ipynb --to slides --post serve --SlidesExporter.reveal_theme=serif --SlidesExporter.reveal_scroll=True --SlidesExporter.reveal_transition=none "
   ]
  },
  {
   "cell_type": "code",
   "execution_count": 2,
   "metadata": {},
   "outputs": [],
   "source": [
    "#helpful schema that Alan created to show connections between different dbs: \n",
    "#https://dbdiagram.io/d/5ceeb0811f6a891a6a658200"
   ]
  },
  {
   "cell_type": "code",
   "execution_count": 3,
   "metadata": {},
   "outputs": [],
   "source": [
    "#https://machinelearningmastery.com/how-to-code-the-students-t-test-from-scratch-in-python/\n",
    "#https://www.sagepub.com/sites/default/files/upm-binaries/33663_Chapter4.pdf\n",
    "#consulted these resources for help with statistical analysis\n",
    "\n",
    "#https://www.kaggle.com/efezinoerome/analyzing-soccer-data\n",
    "#http://www.statstutor.ac.uk/resources/uploaded/tutorsquickguidetostatistics.pdf\n",
    "#also consulted\n",
    "\n",
    "#https://math.stackexchange.com/questions/2173385/semantics-binomial-vs-binary\n",
    "\n",
    "# https://towardsdatascience.com/hypothesis-testing-in-the-northwind-dataset-using-anova-db3ab16b5eba\n",
    "\n",
    "# https://www.quora.com/What-does-a-high-F-value-usually-mean-and-why"
   ]
  },
  {
   "cell_type": "markdown",
   "metadata": {},
   "source": [
    "### Load in necessary libraries"
   ]
  },
  {
   "cell_type": "code",
   "execution_count": 4,
   "metadata": {},
   "outputs": [],
   "source": [
    "import matplotlib.pyplot as plt\n",
    "%matplotlib inline\n",
    "import seaborn as sns\n",
    "import numpy as np\n",
    "import scipy.stats as stats\n",
    "import statsmodels.api as sm\n",
    "from statsmodels.formula.api import ols\n",
    "from numpy.random import seed\n",
    "from numpy.random import randn\n",
    "from scipy.stats import sem\n",
    "from scipy.stats import t\n",
    "from math import sqrt\n",
    "from scipy.stats import chi2_contingency\n",
    "from scipy.stats import chi2\n",
    "import pandas as pd\n",
    "import random"
   ]
  },
  {
   "cell_type": "markdown",
   "metadata": {},
   "source": [
    "### Create functions to load database"
   ]
  },
  {
   "cell_type": "code",
   "execution_count": 5,
   "metadata": {},
   "outputs": [],
   "source": [
    "def connect_to_sql_database(database_file_name):\n",
    "    import sqlite3\n",
    "    connection = sqlite3.connect(database_file_name)\n",
    "    cursor = connection.cursor()\n",
    "    return connection, cursor"
   ]
  },
  {
   "cell_type": "code",
   "execution_count": 6,
   "metadata": {},
   "outputs": [],
   "source": [
    "conn, c = connect_to_sql_database('database1.sqlite')"
   ]
  },
  {
   "cell_type": "code",
   "execution_count": 7,
   "metadata": {},
   "outputs": [],
   "source": [
    "def sql_query_to_df(cursor, sql_query):\n",
    "    import pandas as pd\n",
    "    c.execute(sql_query)\n",
    "    df = pd.DataFrame(c.fetchall())\n",
    "    df.columns = [x[0] for x in c.description]\n",
    "    return df"
   ]
  },
  {
   "cell_type": "code",
   "execution_count": 8,
   "metadata": {},
   "outputs": [],
   "source": [
    "def get_all_tables_from_sql_database(cursor):\n",
    "    df = sql_query_to_df(c, \"\"\"SELECT \n",
    "                                    name\n",
    "                                FROM \n",
    "                                    sqlite_master \n",
    "                                WHERE \n",
    "                                    type ='table' AND \n",
    "                                    name NOT LIKE 'sqlite_%';\"\"\")\n",
    "    return df"
   ]
  },
  {
   "cell_type": "code",
   "execution_count": 9,
   "metadata": {},
   "outputs": [
    {
     "data": {
      "text/html": [
       "<div>\n",
       "<style scoped>\n",
       "    .dataframe tbody tr th:only-of-type {\n",
       "        vertical-align: middle;\n",
       "    }\n",
       "\n",
       "    .dataframe tbody tr th {\n",
       "        vertical-align: top;\n",
       "    }\n",
       "\n",
       "    .dataframe thead th {\n",
       "        text-align: right;\n",
       "    }\n",
       "</style>\n",
       "<table border=\"1\" class=\"dataframe\">\n",
       "  <thead>\n",
       "    <tr style=\"text-align: right;\">\n",
       "      <th></th>\n",
       "      <th>name</th>\n",
       "    </tr>\n",
       "  </thead>\n",
       "  <tbody>\n",
       "    <tr>\n",
       "      <th>0</th>\n",
       "      <td>Player_Attributes</td>\n",
       "    </tr>\n",
       "    <tr>\n",
       "      <th>1</th>\n",
       "      <td>Player</td>\n",
       "    </tr>\n",
       "    <tr>\n",
       "      <th>2</th>\n",
       "      <td>Match</td>\n",
       "    </tr>\n",
       "    <tr>\n",
       "      <th>3</th>\n",
       "      <td>League</td>\n",
       "    </tr>\n",
       "    <tr>\n",
       "      <th>4</th>\n",
       "      <td>Country</td>\n",
       "    </tr>\n",
       "    <tr>\n",
       "      <th>5</th>\n",
       "      <td>Team</td>\n",
       "    </tr>\n",
       "    <tr>\n",
       "      <th>6</th>\n",
       "      <td>Team_Attributes</td>\n",
       "    </tr>\n",
       "  </tbody>\n",
       "</table>\n",
       "</div>"
      ],
      "text/plain": [
       "                name\n",
       "0  Player_Attributes\n",
       "1             Player\n",
       "2              Match\n",
       "3             League\n",
       "4            Country\n",
       "5               Team\n",
       "6    Team_Attributes"
      ]
     },
     "execution_count": 9,
     "metadata": {},
     "output_type": "execute_result"
    }
   ],
   "source": [
    "get_all_tables_from_sql_database(c)"
   ]
  },
  {
   "cell_type": "code",
   "execution_count": 10,
   "metadata": {},
   "outputs": [
    {
     "name": "stdout",
     "output_type": "stream",
     "text": [
      "   id  country_id  league_id     season  stage                 date  \\\n",
      "0   1           1          1  2008/2009      1  2008-08-17 00:00:00   \n",
      "1   2           1          1  2008/2009      1  2008-08-16 00:00:00   \n",
      "2   3           1          1  2008/2009      1  2008-08-16 00:00:00   \n",
      "3   4           1          1  2008/2009      1  2008-08-17 00:00:00   \n",
      "4   5           1          1  2008/2009      1  2008-08-16 00:00:00   \n",
      "\n",
      "   match_api_id  home_team_api_id  away_team_api_id  home_team_goal  ...  \\\n",
      "0        492473              9987              9993               1  ...   \n",
      "1        492474             10000              9994               0  ...   \n",
      "2        492475              9984              8635               0  ...   \n",
      "3        492476              9991              9998               5  ...   \n",
      "4        492477              7947              9985               1  ...   \n",
      "\n",
      "    SJA   VCH   VCD   VCA   GBH   GBD   GBA   BSH   BSD   BSA  \n",
      "0  4.00  1.65  3.40  4.50  1.78  3.25  4.00  1.73  3.40  4.20  \n",
      "1  3.80  2.00  3.25  3.25  1.85  3.25  3.75  1.91  3.25  3.60  \n",
      "2  2.50  2.35  3.25  2.65  2.50  3.20  2.50  2.30  3.20  2.75  \n",
      "3  7.50  1.45  3.75  6.50  1.50  3.75  5.50  1.44  3.75  6.50  \n",
      "4  1.73  4.50  3.40  1.65  4.50  3.50  1.65  4.75  3.30  1.67  \n",
      "\n",
      "[5 rows x 115 columns]\n"
     ]
    },
    {
     "data": {
      "text/html": [
       "<div>\n",
       "<style scoped>\n",
       "    .dataframe tbody tr th:only-of-type {\n",
       "        vertical-align: middle;\n",
       "    }\n",
       "\n",
       "    .dataframe tbody tr th {\n",
       "        vertical-align: top;\n",
       "    }\n",
       "\n",
       "    .dataframe thead th {\n",
       "        text-align: right;\n",
       "    }\n",
       "</style>\n",
       "<table border=\"1\" class=\"dataframe\">\n",
       "  <thead>\n",
       "    <tr style=\"text-align: right;\">\n",
       "      <th></th>\n",
       "      <th>id</th>\n",
       "      <th>player_fifa_api_id</th>\n",
       "      <th>player_api_id</th>\n",
       "      <th>date</th>\n",
       "      <th>overall_rating</th>\n",
       "      <th>potential</th>\n",
       "      <th>preferred_foot</th>\n",
       "      <th>attacking_work_rate</th>\n",
       "      <th>defensive_work_rate</th>\n",
       "      <th>crossing</th>\n",
       "      <th>...</th>\n",
       "      <th>vision</th>\n",
       "      <th>penalties</th>\n",
       "      <th>marking</th>\n",
       "      <th>standing_tackle</th>\n",
       "      <th>sliding_tackle</th>\n",
       "      <th>gk_diving</th>\n",
       "      <th>gk_handling</th>\n",
       "      <th>gk_kicking</th>\n",
       "      <th>gk_positioning</th>\n",
       "      <th>gk_reflexes</th>\n",
       "    </tr>\n",
       "  </thead>\n",
       "  <tbody>\n",
       "    <tr>\n",
       "      <th>0</th>\n",
       "      <td>1</td>\n",
       "      <td>218353</td>\n",
       "      <td>505942</td>\n",
       "      <td>2016-02-18 00:00:00</td>\n",
       "      <td>67.0</td>\n",
       "      <td>71.0</td>\n",
       "      <td>right</td>\n",
       "      <td>medium</td>\n",
       "      <td>medium</td>\n",
       "      <td>49.0</td>\n",
       "      <td>...</td>\n",
       "      <td>54.0</td>\n",
       "      <td>48.0</td>\n",
       "      <td>65.0</td>\n",
       "      <td>69.0</td>\n",
       "      <td>69.0</td>\n",
       "      <td>6.0</td>\n",
       "      <td>11.0</td>\n",
       "      <td>10.0</td>\n",
       "      <td>8.0</td>\n",
       "      <td>8.0</td>\n",
       "    </tr>\n",
       "    <tr>\n",
       "      <th>1</th>\n",
       "      <td>2</td>\n",
       "      <td>218353</td>\n",
       "      <td>505942</td>\n",
       "      <td>2015-11-19 00:00:00</td>\n",
       "      <td>67.0</td>\n",
       "      <td>71.0</td>\n",
       "      <td>right</td>\n",
       "      <td>medium</td>\n",
       "      <td>medium</td>\n",
       "      <td>49.0</td>\n",
       "      <td>...</td>\n",
       "      <td>54.0</td>\n",
       "      <td>48.0</td>\n",
       "      <td>65.0</td>\n",
       "      <td>69.0</td>\n",
       "      <td>69.0</td>\n",
       "      <td>6.0</td>\n",
       "      <td>11.0</td>\n",
       "      <td>10.0</td>\n",
       "      <td>8.0</td>\n",
       "      <td>8.0</td>\n",
       "    </tr>\n",
       "    <tr>\n",
       "      <th>2</th>\n",
       "      <td>3</td>\n",
       "      <td>218353</td>\n",
       "      <td>505942</td>\n",
       "      <td>2015-09-21 00:00:00</td>\n",
       "      <td>62.0</td>\n",
       "      <td>66.0</td>\n",
       "      <td>right</td>\n",
       "      <td>medium</td>\n",
       "      <td>medium</td>\n",
       "      <td>49.0</td>\n",
       "      <td>...</td>\n",
       "      <td>54.0</td>\n",
       "      <td>48.0</td>\n",
       "      <td>65.0</td>\n",
       "      <td>66.0</td>\n",
       "      <td>69.0</td>\n",
       "      <td>6.0</td>\n",
       "      <td>11.0</td>\n",
       "      <td>10.0</td>\n",
       "      <td>8.0</td>\n",
       "      <td>8.0</td>\n",
       "    </tr>\n",
       "    <tr>\n",
       "      <th>3</th>\n",
       "      <td>4</td>\n",
       "      <td>218353</td>\n",
       "      <td>505942</td>\n",
       "      <td>2015-03-20 00:00:00</td>\n",
       "      <td>61.0</td>\n",
       "      <td>65.0</td>\n",
       "      <td>right</td>\n",
       "      <td>medium</td>\n",
       "      <td>medium</td>\n",
       "      <td>48.0</td>\n",
       "      <td>...</td>\n",
       "      <td>53.0</td>\n",
       "      <td>47.0</td>\n",
       "      <td>62.0</td>\n",
       "      <td>63.0</td>\n",
       "      <td>66.0</td>\n",
       "      <td>5.0</td>\n",
       "      <td>10.0</td>\n",
       "      <td>9.0</td>\n",
       "      <td>7.0</td>\n",
       "      <td>7.0</td>\n",
       "    </tr>\n",
       "    <tr>\n",
       "      <th>4</th>\n",
       "      <td>5</td>\n",
       "      <td>218353</td>\n",
       "      <td>505942</td>\n",
       "      <td>2007-02-22 00:00:00</td>\n",
       "      <td>61.0</td>\n",
       "      <td>65.0</td>\n",
       "      <td>right</td>\n",
       "      <td>medium</td>\n",
       "      <td>medium</td>\n",
       "      <td>48.0</td>\n",
       "      <td>...</td>\n",
       "      <td>53.0</td>\n",
       "      <td>47.0</td>\n",
       "      <td>62.0</td>\n",
       "      <td>63.0</td>\n",
       "      <td>66.0</td>\n",
       "      <td>5.0</td>\n",
       "      <td>10.0</td>\n",
       "      <td>9.0</td>\n",
       "      <td>7.0</td>\n",
       "      <td>7.0</td>\n",
       "    </tr>\n",
       "  </tbody>\n",
       "</table>\n",
       "<p>5 rows × 42 columns</p>\n",
       "</div>"
      ],
      "text/plain": [
       "   id  player_fifa_api_id  player_api_id                 date  overall_rating  \\\n",
       "0   1              218353         505942  2016-02-18 00:00:00            67.0   \n",
       "1   2              218353         505942  2015-11-19 00:00:00            67.0   \n",
       "2   3              218353         505942  2015-09-21 00:00:00            62.0   \n",
       "3   4              218353         505942  2015-03-20 00:00:00            61.0   \n",
       "4   5              218353         505942  2007-02-22 00:00:00            61.0   \n",
       "\n",
       "   potential preferred_foot attacking_work_rate defensive_work_rate  crossing  \\\n",
       "0       71.0          right              medium              medium      49.0   \n",
       "1       71.0          right              medium              medium      49.0   \n",
       "2       66.0          right              medium              medium      49.0   \n",
       "3       65.0          right              medium              medium      48.0   \n",
       "4       65.0          right              medium              medium      48.0   \n",
       "\n",
       "   ...  vision  penalties  marking  standing_tackle  sliding_tackle  \\\n",
       "0  ...    54.0       48.0     65.0             69.0            69.0   \n",
       "1  ...    54.0       48.0     65.0             69.0            69.0   \n",
       "2  ...    54.0       48.0     65.0             66.0            69.0   \n",
       "3  ...    53.0       47.0     62.0             63.0            66.0   \n",
       "4  ...    53.0       47.0     62.0             63.0            66.0   \n",
       "\n",
       "   gk_diving  gk_handling  gk_kicking  gk_positioning  gk_reflexes  \n",
       "0        6.0         11.0        10.0             8.0          8.0  \n",
       "1        6.0         11.0        10.0             8.0          8.0  \n",
       "2        6.0         11.0        10.0             8.0          8.0  \n",
       "3        5.0         10.0         9.0             7.0          7.0  \n",
       "4        5.0         10.0         9.0             7.0          7.0  \n",
       "\n",
       "[5 rows x 42 columns]"
      ]
     },
     "execution_count": 10,
     "metadata": {},
     "output_type": "execute_result"
    }
   ],
   "source": [
    "#Load up information from Match and Player_Attributes Databases\n",
    "df = sql_query_to_df(c, \"\"\"SELECT * FROM Match\"\"\")\n",
    "print(df.head())\n",
    "df1 = sql_query_to_df(c, \"\"\"SELECT * FROM Player_Attributes\"\"\")\n",
    "df1.head()"
   ]
  },
  {
   "cell_type": "code",
   "execution_count": 11,
   "metadata": {},
   "outputs": [],
   "source": [
    "df1b=df1.copy()"
   ]
  },
  {
   "cell_type": "code",
   "execution_count": 12,
   "metadata": {
    "scrolled": false
   },
   "outputs": [
    {
     "name": "stdout",
     "output_type": "stream",
     "text": [
      "Index(['id', 'country_id', 'league_id', 'season', 'stage', 'date',\n",
      "       'match_api_id', 'home_team_api_id', 'away_team_api_id',\n",
      "       'home_team_goal',\n",
      "       ...\n",
      "       'SJA', 'VCH', 'VCD', 'VCA', 'GBH', 'GBD', 'GBA', 'BSH', 'BSD', 'BSA'],\n",
      "      dtype='object', length=115)\n"
     ]
    },
    {
     "data": {
      "text/plain": [
       "Index(['id', 'player_fifa_api_id', 'player_api_id', 'date', 'overall_rating',\n",
       "       'potential', 'preferred_foot', 'attacking_work_rate',\n",
       "       'defensive_work_rate', 'crossing', 'finishing', 'heading_accuracy',\n",
       "       'short_passing', 'volleys', 'dribbling', 'curve', 'free_kick_accuracy',\n",
       "       'long_passing', 'ball_control', 'acceleration', 'sprint_speed',\n",
       "       'agility', 'reactions', 'balance', 'shot_power', 'jumping', 'stamina',\n",
       "       'strength', 'long_shots', 'aggression', 'interceptions', 'positioning',\n",
       "       'vision', 'penalties', 'marking', 'standing_tackle', 'sliding_tackle',\n",
       "       'gk_diving', 'gk_handling', 'gk_kicking', 'gk_positioning',\n",
       "       'gk_reflexes'],\n",
       "      dtype='object')"
      ]
     },
     "execution_count": 12,
     "metadata": {},
     "output_type": "execute_result"
    }
   ],
   "source": [
    "#Check columns in each Database to be analyzed \n",
    "print(df.columns)\n",
    "df1.columns"
   ]
  },
  {
   "cell_type": "code",
   "execution_count": 13,
   "metadata": {},
   "outputs": [],
   "source": [
    "#Set up columns to see who won or lost or draw\n",
    "df['HomeWin']=df.home_team_goal>df.away_team_goal\n",
    "df['AwayWin']=df.away_team_goal>df.home_team_goal\n",
    "df['Draw']=df.home_team_goal==df.away_team_goal"
   ]
  },
  {
   "cell_type": "code",
   "execution_count": 14,
   "metadata": {},
   "outputs": [
    {
     "data": {
      "text/plain": [
       "0.45871665576042187"
      ]
     },
     "execution_count": 14,
     "metadata": {},
     "output_type": "execute_result"
    }
   ],
   "source": [
    "#Percentage of wins at home (across the dataset)\n",
    "df.HomeWin.sum()/df.HomeWin.shape[0]"
   ]
  },
  {
   "cell_type": "code",
   "execution_count": 15,
   "metadata": {},
   "outputs": [
    {
     "data": {
      "text/plain": [
       "0.28738596558759"
      ]
     },
     "execution_count": 15,
     "metadata": {},
     "output_type": "execute_result"
    }
   ],
   "source": [
    "#Percentage of wins across the dataset when away\n",
    "df.AwayWin.sum()/df.AwayWin.shape[0]\n",
    "#The effect size of playing home/away appears to be substantial, \n",
    "#this will be confirmed with statistical testing"
   ]
  },
  {
   "cell_type": "markdown",
   "metadata": {},
   "source": [
    "### Need to answer this question: Is there a statistical difference in the odds of winning a game when a team is playing in front of their home crowd?"
   ]
  },
  {
   "cell_type": "code",
   "execution_count": 16,
   "metadata": {},
   "outputs": [
    {
     "data": {
      "text/html": [
       "<div>\n",
       "<style scoped>\n",
       "    .dataframe tbody tr th:only-of-type {\n",
       "        vertical-align: middle;\n",
       "    }\n",
       "\n",
       "    .dataframe tbody tr th {\n",
       "        vertical-align: top;\n",
       "    }\n",
       "\n",
       "    .dataframe thead th {\n",
       "        text-align: right;\n",
       "    }\n",
       "</style>\n",
       "<table border=\"1\" class=\"dataframe\">\n",
       "  <thead>\n",
       "    <tr style=\"text-align: right;\">\n",
       "      <th></th>\n",
       "      <th>0</th>\n",
       "      <th>1</th>\n",
       "    </tr>\n",
       "  </thead>\n",
       "  <tbody>\n",
       "    <tr>\n",
       "      <th>1601</th>\n",
       "      <td>0.450000</td>\n",
       "      <td>0.550000</td>\n",
       "    </tr>\n",
       "    <tr>\n",
       "      <th>1773</th>\n",
       "      <td>0.355556</td>\n",
       "      <td>0.644444</td>\n",
       "    </tr>\n",
       "    <tr>\n",
       "      <th>1957</th>\n",
       "      <td>0.525000</td>\n",
       "      <td>0.475000</td>\n",
       "    </tr>\n",
       "    <tr>\n",
       "      <th>2033</th>\n",
       "      <td>0.253333</td>\n",
       "      <td>0.746667</td>\n",
       "    </tr>\n",
       "    <tr>\n",
       "      <th>2182</th>\n",
       "      <td>0.616667</td>\n",
       "      <td>0.383333</td>\n",
       "    </tr>\n",
       "  </tbody>\n",
       "</table>\n",
       "</div>"
      ],
      "text/plain": [
       "             0         1\n",
       "1601  0.450000  0.550000\n",
       "1773  0.355556  0.644444\n",
       "1957  0.525000  0.475000\n",
       "2033  0.253333  0.746667\n",
       "2182  0.616667  0.383333"
      ]
     },
     "execution_count": 16,
     "metadata": {},
     "output_type": "execute_result"
    }
   ],
   "source": [
    "def homewinbinary(df):\n",
    "    win_dict={}\n",
    "    #for home wins\n",
    "    games_home = df.groupby(df.home_team_api_id) #slice by home id\n",
    "    games_away = df.groupby(df.away_team_api_id) #slice by away id\n",
    "    team_ids = list(games_home.groups.keys()) #get individual team ids\n",
    "    #calculate and store home win percentages\n",
    "    for team in team_ids:\n",
    "        x=games_home.get_group(team) #grab home wins\n",
    "        y=games_away.get_group(team) #grab everything else\n",
    "        \n",
    "        home_per=x.HomeWin.sum()/len(x.HomeWin) #calculate Home win percentage\n",
    "        else_per=(1 - home_per) #calculate complement of Home win percentage\n",
    "        \n",
    "        win_dict[team]=[home_per,else_per] #store\n",
    "\n",
    "        \n",
    "        \n",
    "    win_df=pd.DataFrame(win_dict).T\n",
    "    return win_df\n",
    "binary = homewinbinary(df)\n",
    "binary.head()"
   ]
  },
  {
   "cell_type": "code",
   "execution_count": 17,
   "metadata": {},
   "outputs": [],
   "source": [
    "wins = df[['HomeWin', 'AwayWin', 'Draw']]"
   ]
  },
  {
   "cell_type": "code",
   "execution_count": 18,
   "metadata": {
    "scrolled": true
   },
   "outputs": [
    {
     "data": {
      "image/png": "[encoded data removed]",
      "text/plain": [
       "<Figure size 432x288 with 2 Axes>"
      ]
     },
     "metadata": {
      "needs_background": "light"
     },
     "output_type": "display_data"
    }
   ],
   "source": [
    "sns.heatmap(wins.corr(), annot=True, center=0);"
   ]
  },
  {
   "cell_type": "code",
   "execution_count": 19,
   "metadata": {
    "scrolled": false
   },
   "outputs": [
    {
     "data": {
      "text/plain": [
       "<matplotlib.axes._subplots.AxesSubplot at 0x1c1e00a1d0>"
      ]
     },
     "execution_count": 19,
     "metadata": {},
     "output_type": "execute_result"
    },
    {
     "data": {
      "image/png": "[encoded data removed]",
      "text/plain": [
       "<Figure size 432x288 with 1 Axes>"
      ]
     },
     "metadata": {
      "needs_background": "light"
     },
     "output_type": "display_data"
    }
   ],
   "source": [
    "#Histogram of all games that are not a home win\n",
    "sns.distplot(binary[0])"
   ]
  },
  {
   "cell_type": "code",
   "execution_count": 20,
   "metadata": {
    "scrolled": true
   },
   "outputs": [
    {
     "data": {
      "text/plain": [
       "<matplotlib.axes._subplots.AxesSubplot at 0x1c1db729b0>"
      ]
     },
     "execution_count": 20,
     "metadata": {},
     "output_type": "execute_result"
    },
    {
     "data": {
      "image/png": "[encoded data removed]",
      "text/plain": [
       "<Figure size 432x288 with 1 Axes>"
      ]
     },
     "metadata": {
      "needs_background": "light"
     },
     "output_type": "display_data"
    }
   ],
   "source": [
    "#Histogram of games that were home wins\n",
    "sns.distplot(binary[1])"
   ]
  },
  {
   "cell_type": "code",
   "execution_count": 21,
   "metadata": {},
   "outputs": [
    {
     "data": {
      "image/png": "[encoded data removed]",
      "text/plain": [
       "<Figure size 576x360 with 1 Axes>"
      ]
     },
     "metadata": {
      "needs_background": "light"
     },
     "output_type": "display_data"
    }
   ],
   "source": [
    "# Plotting the distributions for the 5 goalie metrics before log-transformation\n",
    "plt.figure(figsize=(8,5))\n",
    "for skill in binary.columns:\n",
    "    sns.distplot((binary[skill]), hist_kws=dict(alpha=0.2))\n",
    "    plt.xlabel('Home Wins (Orange) versus all other outcomes (Blue)')"
   ]
  },
  {
   "cell_type": "code",
   "execution_count": 22,
   "metadata": {},
   "outputs": [
    {
     "name": "stdout",
     "output_type": "stream",
     "text": [
      "T-test independent, one tailed p-value:  7.977152115768083e-48\n"
     ]
    }
   ],
   "source": [
    "x = binary[0]\n",
    "y = binary[1]\n",
    "ttest=stats.ttest_ind(x,y)\n",
    "print('T-test independent, one tailed p-value: ', ttest[1])"
   ]
  },
  {
   "cell_type": "code",
   "execution_count": 23,
   "metadata": {
    "scrolled": true
   },
   "outputs": [
    {
     "name": "stdout",
     "output_type": "stream",
     "text": [
      "T-test independent, two tailed p-value:  1.5954304231536166e-47\n"
     ]
    }
   ],
   "source": [
    "print('T-test independent, two tailed p-value: ', ttest[1]*2)"
   ]
  },
  {
   "cell_type": "code",
   "execution_count": 24,
   "metadata": {
    "scrolled": true
   },
   "outputs": [
    {
     "data": {
      "text/plain": [
       "Ttest_relResult(statistic=-11.2591847895789, pvalue=9.70767116964689e-25)"
      ]
     },
     "execution_count": 24,
     "metadata": {},
     "output_type": "execute_result"
    }
   ],
   "source": [
    "ttest=stats.ttest_rel(x,y)\n",
    "ttest"
   ]
  },
  {
   "cell_type": "code",
   "execution_count": 25,
   "metadata": {},
   "outputs": [
    {
     "data": {
      "text/plain": [
       "MannwhitneyuResult(statistic=15739.5, pvalue=4.452380650142112e-43)"
      ]
     },
     "execution_count": 25,
     "metadata": {},
     "output_type": "execute_result"
    }
   ],
   "source": [
    "stats.mannwhitneyu(x,y)"
   ]
  },
  {
   "cell_type": "code",
   "execution_count": 26,
   "metadata": {
    "scrolled": true
   },
   "outputs": [
    {
     "ename": "NameError",
     "evalue": "name 'visualize_t' is not defined",
     "output_type": "error",
     "traceback": [
      "\u001b[0;31m---------------------------------------------------------------------------\u001b[0m",
      "\u001b[0;31mNameError\u001b[0m                                 Traceback (most recent call last)",
      "\u001b[0;32m<ipython-input-26-72e20546a05c>\u001b[0m in \u001b[0;36m<module>\u001b[0;34m\u001b[0m\n\u001b[1;32m      1\u001b[0m \u001b[0;31m#Strong t-stat evidence\u001b[0m\u001b[0;34m\u001b[0m\u001b[0;34m\u001b[0m\u001b[0;34m\u001b[0m\u001b[0m\n\u001b[0;32m----> 2\u001b[0;31m \u001b[0mvisualize_t\u001b[0m\u001b[0;34m(\u001b[0m\u001b[0;34m-\u001b[0m\u001b[0;36m11.2591847895789\u001b[0m\u001b[0;34m,\u001b[0m \u001b[0mn_cont\u001b[0m\u001b[0;34m,\u001b[0m \u001b[0mn_exp\u001b[0m\u001b[0;34m)\u001b[0m\u001b[0;34m\u001b[0m\u001b[0;34m\u001b[0m\u001b[0m\n\u001b[0m",
      "\u001b[0;31mNameError\u001b[0m: name 'visualize_t' is not defined"
     ]
    }
   ],
   "source": [
    "#Strong t-stat evidence\n",
    "visualize_t(-11.2591847895789, n_cont, n_exp)"
   ]
  },
  {
   "cell_type": "code",
   "execution_count": null,
   "metadata": {},
   "outputs": [],
   "source": [
    "def evaluate_PDF(rv, x=4):\n",
    "    '''Input: a random variable object, standard deviation\n",
    "       output : x and y values for the normal distribution\n",
    "       '''\n",
    "    \n",
    "    # Identify the mean and standard deviation of random variable \n",
    "    mean = rv.mean()\n",
    "    std = rv.std()\n",
    "\n",
    "    # Use numpy to calculate evenly spaced numbers over the specified interval (4 sd) and generate 100 samples.\n",
    "    xs = np.linspace(mean - x*std, mean + x*std, 100)\n",
    "    \n",
    "    # Calculate the peak of normal distribution i.e. probability density. \n",
    "    ys = rv.pdf(xs)\n",
    "\n",
    "    return xs, ys # Return calculated values"
   ]
  },
  {
   "cell_type": "code",
   "execution_count": null,
   "metadata": {},
   "outputs": [],
   "source": [
    "def Cohen_d(group1, group2):\n",
    "\n",
    "    # Compute Cohen's d.\n",
    "\n",
    "    # group1: Series or NumPy array\n",
    "    # group2: Series or NumPy array\n",
    "\n",
    "    # returns a floating point number \n",
    "\n",
    "    diff = group1.mean() - group2.mean()\n",
    "\n",
    "    n1, n2 = len(group1), len(group2)\n",
    "    var1 = group1.var()\n",
    "    var2 = group2.var()\n",
    "\n",
    "    # Calculate the pooled threshold as shown earlier\n",
    "    pooled_var = (n1 * var1 + n2 * var2) / (n1 + n2)\n",
    "    \n",
    "    # Calculate Cohen's d statistic\n",
    "    d = diff / np.sqrt(pooled_var)\n",
    "    \n",
    "    return d\n",
    "Cohen_d(y, x)"
   ]
  },
  {
   "cell_type": "code",
   "execution_count": null,
   "metadata": {},
   "outputs": [],
   "source": [
    "def overlap_superiority(group1, group2, n=299):\n",
    "    \"\"\"Estimates overlap and superiority based on a sample.\n",
    "    \n",
    "    group1: scipy.stats rv object\n",
    "    group2: scipy.stats rv object\n",
    "    n: sample size\n",
    "    \"\"\"\n",
    "\n",
    "    # Get a sample of size n from both groups\n",
    "    group1_sample = group1.rvs(n)\n",
    "    group2_sample = group2.rvs(n)\n",
    "    \n",
    "    # Identify the threshold between samples\n",
    "    thresh = (group1.mean() + group2.mean()) / 2\n",
    "    print(thresh)\n",
    "    \n",
    "    # Calculate no. of values above and below for group 1 and group 2 respectively\n",
    "    above = sum(group1_sample < thresh)\n",
    "    below = sum(group2_sample > thresh)\n",
    "    \n",
    "    # Calculate the overlap\n",
    "    overlap = (above + below) / n\n",
    "    \n",
    "    # Calculate probability of superiority\n",
    "    superiority = sum(x > y for x, y in zip(group1_sample, group2_sample)) / n\n",
    "\n",
    "    return overlap, superiority"
   ]
  },
  {
   "cell_type": "code",
   "execution_count": null,
   "metadata": {},
   "outputs": [],
   "source": [
    "def plot_pdfs(cohen_d=1):\n",
    "    \"\"\"Plot PDFs for distributions that differ by some number of stds.\n",
    "    \n",
    "    cohen_d: number of standard deviations between the means\n",
    "    \"\"\"\n",
    "    group1 = stats.norm(0, 1)\n",
    "    group2 = stats.norm(cohen_d, 1)\n",
    "    xs, ys = evaluate_PDF(group1)\n",
    "    plt.fill_between(xs, ys, label='Group1', color='#ff2289', alpha=0.7)\n",
    "\n",
    "    xs, ys = evaluate_PDF(group2)\n",
    "    plt.fill_between(xs, ys, label='Group2', color='#376cb0', alpha=0.7)\n",
    "    \n",
    "    o, s = overlap_superiority(group1, group2)\n",
    "    print('overlap', o)\n",
    "    print('superiority', s)\n",
    "    \n",
    "plot_pdfs(1.3022709371161278)"
   ]
  },
  {
   "cell_type": "markdown",
   "metadata": {},
   "source": [
    "### Goal-keeper metrics"
   ]
  },
  {
   "cell_type": "code",
   "execution_count": null,
   "metadata": {},
   "outputs": [],
   "source": [
    "corr2 = df1b.select_dtypes(include =['float64','int64']).\\\n",
    "loc[:,df1b.select_dtypes(include =['float64','int64']).columns[3:]].corr()"
   ]
  },
  {
   "cell_type": "code",
   "execution_count": null,
   "metadata": {},
   "outputs": [],
   "source": [
    "#Deletes repetive values to improve heatmap visualization\n",
    "for i in range(corr2.shape[0]):\n",
    "    for j in range(corr2.shape[1]):\n",
    "        if j>=i:\n",
    "            corr2.iloc[i,j] = None"
   ]
  },
  {
   "cell_type": "code",
   "execution_count": null,
   "metadata": {},
   "outputs": [],
   "source": [
    "#all player attributes\n",
    "\n",
    "fig2,ax2 = plt.subplots(nrows = 1,ncols = 1)\n",
    "fig2.set_size_inches(w=24,h=24)\n",
    "sns.heatmap(corr2,annot = True,linewidths=0.5,ax = ax2)"
   ]
  },
  {
   "cell_type": "code",
   "execution_count": null,
   "metadata": {
    "scrolled": true
   },
   "outputs": [],
   "source": [
    "fig6, ax6 = plt.subplots(nrows=5,ncols=7)\n",
    "fig6.set_size_inches(16,12)\n",
    "\n",
    "foo=df1b.dropna()\n",
    "a=foo.select_dtypes(include=['float64']).columns[3:].tolist()\n",
    "a\n",
    "\n",
    "i=0\n",
    "for j in a:\n",
    "     b = foo[j]\n",
    "     sns.distplot(b, ax = ax6[int(i/7)][i%7])\n",
    "     i=i+1\n",
    "#     len(b)\n",
    "fig6.tight_layout()"
   ]
  },
  {
   "cell_type": "code",
   "execution_count": null,
   "metadata": {},
   "outputs": [],
   "source": [
    "fig7, ax7 = plt.subplots(nrows=5,ncols=7)\n",
    "fig7.set_size_inches(16,12)\n",
    "\n",
    "foo1=df1b.dropna()\n",
    "a=foo1.select_dtypes(include=['float64']).columns[3:].tolist()\n",
    "a\n",
    "\n",
    "i=0\n",
    "for j in a:\n",
    "     b = foo1[j]\n",
    "     sns.boxplot(b, ax = ax7[int(i/7)][i%7])\n",
    "     i=i+1\n",
    "#     len(b)\n",
    "fig7.tight_layout()"
   ]
  },
  {
   "cell_type": "code",
   "execution_count": null,
   "metadata": {},
   "outputs": [],
   "source": [
    "# Check for missing values\n",
    "df1[['gk_diving', 'gk_handling', 'gk_kicking', 'gk_positioning', 'gk_reflexes']].isna().sum()"
   ]
  },
  {
   "cell_type": "code",
   "execution_count": null,
   "metadata": {},
   "outputs": [],
   "source": [
    "# Get rid of missing values\n",
    "df1c = df1[['gk_diving', 'gk_handling', 'gk_kicking', 'gk_positioning', 'gk_reflexes']].dropna()"
   ]
  },
  {
   "cell_type": "code",
   "execution_count": null,
   "metadata": {},
   "outputs": [],
   "source": [
    "#Check again\n",
    "df1c[['gk_diving', 'gk_handling', 'gk_kicking', 'gk_positioning', 'gk_reflexes']].isna().sum()"
   ]
  },
  {
   "cell_type": "code",
   "execution_count": null,
   "metadata": {},
   "outputs": [],
   "source": [
    "# Log-transformation\n",
    "df1c_log = df1c.copy()\n",
    "df1c_log[['gk_diving', 'gk_handling', 'gk_kicking', 'gk_positioning', 'gk_reflexes']] = \\\n",
    "np.log(df1[['gk_diving', 'gk_handling', 'gk_kicking', 'gk_positioning', 'gk_reflexes']])"
   ]
  },
  {
   "cell_type": "code",
   "execution_count": null,
   "metadata": {},
   "outputs": [],
   "source": []
  },
  {
   "cell_type": "code",
   "execution_count": null,
   "metadata": {},
   "outputs": [],
   "source": [
    "# Plotting the distributions for the 5 goalie metrics before log-transformation\n",
    "plt.figure(figsize=(8,5))\n",
    "for skill in df1c.columns:\n",
    "    sns.distplot((df1c[skill]), hist_kws=dict(alpha=0.2))\n",
    "    plt.xlabel('Goalie Metrics')"
   ]
  },
  {
   "cell_type": "code",
   "execution_count": null,
   "metadata": {},
   "outputs": [],
   "source": [
    "# Plotting the distributions for the log-transformed data all on one graph together\n",
    "plt.figure(figsize=(8,5))\n",
    "for skill in df1c_log.columns:\n",
    "    sns.distplot((df1c_log[skill]), hist_kws=dict(alpha=0.2))\n",
    "    plt.xlabel('Log Transformed Goalie Metrics')"
   ]
  },
  {
   "cell_type": "code",
   "execution_count": null,
   "metadata": {},
   "outputs": [],
   "source": [
    "#Each separate Goalie Metric before it was log-transformed\n",
    "sns.pairplot(df1c)"
   ]
  },
  {
   "cell_type": "code",
   "execution_count": null,
   "metadata": {
    "scrolled": true
   },
   "outputs": [],
   "source": [
    "#Each separate Goalie Metric log-transformed\n",
    "sns.pairplot(df1_log)"
   ]
  },
  {
   "cell_type": "code",
   "execution_count": null,
   "metadata": {
    "scrolled": true
   },
   "outputs": [],
   "source": [
    "df1.isna().sum()"
   ]
  },
  {
   "cell_type": "code",
   "execution_count": null,
   "metadata": {
    "scrolled": false
   },
   "outputs": [],
   "source": [
    "df1test.info()\n",
    "\n",
    "stats.ttest_ind(df1test['strength'],df1test['agility'])"
   ]
  },
  {
   "cell_type": "code",
   "execution_count": null,
   "metadata": {},
   "outputs": [],
   "source": [
    "#Grab cleaned goal-keeper columns\n",
    "foo2 = foo1[['gk_diving', 'gk_handling', 'gk_kicking', 'gk_positioning', 'gk_reflexes']]"
   ]
  },
  {
   "cell_type": "code",
   "execution_count": null,
   "metadata": {},
   "outputs": [],
   "source": [
    "#Pair each Goal-keeping metric with each other one in an independent Ttest\n",
    "ttest_result_dict = {}\n",
    "for skill in foo2.columns:\n",
    "    for skill_2 in foo2.columns:\n",
    "        x = foo2[skill]\n",
    "        y = foo2[skill_2]\n",
    "        ttest = stats.ttest_ind(x,y)\n",
    "        ttest_name = skill+skill_2\n",
    "        ttest_result_dict.update({ttest_name : ttest})"
   ]
  },
  {
   "cell_type": "code",
   "execution_count": null,
   "metadata": {
    "scrolled": false
   },
   "outputs": [],
   "source": [
    "ttest_result_dict"
   ]
  },
  {
   "cell_type": "code",
   "execution_count": null,
   "metadata": {},
   "outputs": [],
   "source": [
    "#Pair each Goal-keeping metric with each other one in an independent Ttest\n",
    "ttest_result_dict = {}\n",
    "for skill in foo2.columns:\n",
    "    for skill_2 in foo2.columns:\n",
    "        x = foo2[skill]\n",
    "        y = foo2[skill_2]\n",
    "        ttest = stats.ttest_dep(x,y)\n",
    "        ttest_name = skill+skill_2\n",
    "        ttest_result_dict.update({ttest_name : ttest})"
   ]
  },
  {
   "cell_type": "code",
   "execution_count": null,
   "metadata": {},
   "outputs": [],
   "source": [
    "#Pair each log-transformed Goal-keeping metric with each other one in an independent Ttest\n",
    "ttest_result_dict1 = {}\n",
    "for skill in df1c_log.columns:\n",
    "    for skill_2 in df1c_log.columns:\n",
    "        x = df1c_log[skill]\n",
    "        y = df1c_log[skill_2]\n",
    "        ttest = stats.ttest_ind(x,y)\n",
    "        ttest_name = skill+skill_2\n",
    "        ttest_result_dict1.update({ttest_name : ttest})\n",
    "    "
   ]
  },
  {
   "cell_type": "code",
   "execution_count": null,
   "metadata": {
    "scrolled": true
   },
   "outputs": [],
   "source": [
    "ttest_result_dict1"
   ]
  },
  {
   "cell_type": "code",
   "execution_count": null,
   "metadata": {
    "scrolled": true
   },
   "outputs": [],
   "source": [
    "# Create list of statistical values\n",
    "ttest_list = list(ttest_result_dict.values())\n",
    "ttest_list1 = list(ttest_result_dict1.values())"
   ]
  },
  {
   "cell_type": "code",
   "execution_count": null,
   "metadata": {},
   "outputs": [],
   "source": [
    "#Created a list of only p-values\n",
    "p = [ttest_list[i][1] for i in range(len(ttest_list))]\n",
    "p1 = [ttest_list1[i][1] for i in range(len(ttest_list1))]"
   ]
  },
  {
   "cell_type": "code",
   "execution_count": null,
   "metadata": {},
   "outputs": [],
   "source": [
    "#Sliced up list into appropriate sub-lists for each column\n",
    "p_diving, p_handling, p_kicking, p_positioning, p_reflexes = p[0:5], p[5:10], p[10:15], p[15:20], p[20:25]\n",
    "p_vals = [p_diving, p_handling, p_kicking, p_positioning, p_reflexes]\n",
    "p_diving, p_handling, p_kicking, p_positioning, p_reflexes = p1[0:5], p1[5:10], p1[10:15], p1[15:20], p1[20:25]\n",
    "p_valslog = [p_diving, p_handling, p_kicking, p_positioning, p_reflexes]"
   ]
  },
  {
   "cell_type": "code",
   "execution_count": null,
   "metadata": {},
   "outputs": [],
   "source": [
    "# Create empty dataframe out of goal-keeper metrics\n",
    "goalie_df = foo2.loc[:,'gk_diving':'gk_reflexes'].drop(foo2.index[0:foo2.shape[0]])\n",
    "goalie_df['Index_'] = foo2.loc[:,'gk_diving':'gk_reflexes'].columns\n",
    "goalie_df = goalie_df.set_index('Index_')\n",
    "None"
   ]
  },
  {
   "cell_type": "code",
   "execution_count": null,
   "metadata": {},
   "outputs": [],
   "source": [
    "# Create empty dataframe out of log-transformed goal-keeper metrics\n",
    "goalie_dflog = df1c_log.loc[:,'gk_diving':'gk_reflexes'].drop(df1c_log.index[0:df1c_log.shape[0]])\n",
    "goalie_dflog['Index_'] = df1c_log.loc[:,'gk_diving':'gk_reflexes'].columns\n",
    "goalie_dflog = goalie_dflog.set_index('Index_')\n",
    "None"
   ]
  },
  {
   "cell_type": "code",
   "execution_count": null,
   "metadata": {},
   "outputs": [],
   "source": [
    "#Set columns for normal and log-transformed equal to p_values\n",
    "\n",
    "#index for p_vals\n",
    "p_val = 0\n",
    "#looping through columns\n",
    "for column in goalie_df.columns:\n",
    "    \n",
    "    goalie_df[column] = p_vals[p_val]\n",
    "    #increasing index\n",
    "    p_val += 1\n",
    "    \n",
    "#index for p_vals\n",
    "p_val1 = 0\n",
    "#looping through columns\n",
    "for column in goalie_dflog.columns:\n",
    "    \n",
    "    goalie_dflog[column] = p_valslog[p_val1]\n",
    "    #increasing index\n",
    "    p_val1 += 1"
   ]
  },
  {
   "cell_type": "code",
   "execution_count": null,
   "metadata": {
    "scrolled": false
   },
   "outputs": [],
   "source": [
    "#Delete repetive values to improve heatmap visualization\n",
    "for i in range(goalie_df.shape[0]):\n",
    "    for j in range(goalie_df.shape[1]):\n",
    "        if j>=i:\n",
    "            goalie_df.iloc[i,j] = None\n",
    "goalie_df"
   ]
  },
  {
   "cell_type": "code",
   "execution_count": null,
   "metadata": {},
   "outputs": [],
   "source": [
    "#Deletes repetive values to improve heatmap visualization\n",
    "for i in range(goalie_dflog.shape[0]):\n",
    "    for j in range(goalie_dflog.shape[1]):\n",
    "        if j>=i:\n",
    "            goalie_dflog.iloc[i,j] = None\n",
    "goalie_dflog"
   ]
  },
  {
   "cell_type": "code",
   "execution_count": null,
   "metadata": {},
   "outputs": [],
   "source": [
    "#this generates a heatmap of p-values\n",
    "sns.set_style(\"whitegrid\")\n",
    "fig, ax = plt.subplots(figsize= (12,8))\n",
    "sns.heatmap(goalie_df, vmin=0, vmax=.38, annot = True, ax = ax)\n",
    "ax.set_title(\"One-to-one goalie metrics \\n Alpha = .05, one sided T-Test\")\n",
    "ax.patch.set_alpha(0.5)\n",
    "ax.set_ylabel('')    \n",
    "ax.set_xlabel('')"
   ]
  },
  {
   "cell_type": "code",
   "execution_count": null,
   "metadata": {},
   "outputs": [],
   "source": [
    "#this generates a heatmap of  log-transformed p-values\n",
    "sns.set_style(\"whitegrid\")\n",
    "fig, ax = plt.subplots(figsize= (12,8))\n",
    "sns.heatmap(goalie_dflog, vmin=0, vmax=.38, annot = True, ax = ax)\n",
    "ax.set_title(\"One-to-one goalie metrics \\n Alpha = .05, one sided T-Test\")\n",
    "ax.patch.set_alpha(0.5)\n",
    "ax.set_ylabel('') \n",
    "ax.set_xlabel('')"
   ]
  },
  {
   "cell_type": "code",
   "execution_count": null,
   "metadata": {},
   "outputs": [],
   "source": [
    "for bookie_df in list_of_dataframes:\n",
    "    for bookie_1 in bookie_df:\n",
    "        for index, bookie_2 in enumerate(bookie_df):\n",
    "            x = df[bookie_1]\n",
    "            y = df[bookie_2]\n",
    "            ttest=stats.ttest_ind(x,y)\n",
    "            bookie_df[bookie_1].iloc[index] = ttest[1]*2\n",
    "\n",
    "    #Deletes repetive values to improve heatmap visualization\n",
    "    for i in range(bookie_df.shape[0]):\n",
    "        for j in range(bookie_df.shape[1]):\n",
    "            if j>=i:\n",
    "                bookie_df.iloc[i,j] = None\n",
    "\n",
    "#This loops through the bookies to conduct individual one-to-one ttests for \n",
    "#bookies across similar odds\n",
    "list_of_dataframes = [home_win_df, away_win_df, draw_df]\n",
    "\n",
    "for bookie_df in list_of_dataframes:\n",
    "    for bookie_1 in bookie_df:\n",
    "        for index, bookie_2 in enumerate(bookie_df):\n",
    "            x = df[bookie_1]\n",
    "            y = df[bookie_2]\n",
    "            ttest=stats.ttest_ind(x,y)\n",
    "            bookie_df[bookie_1].iloc[index] = ttest[1]*2\n",
    "\n",
    "    #Deletes repetive values to improve heatmap visualization\n",
    "    for i in range(bookie_df.shape[0]):\n",
    "        for j in range(bookie_df.shape[1]):\n",
    "            if j>=i:\n",
    "                bookie_df.iloc[i,j] = None"
   ]
  },
  {
   "cell_type": "code",
   "execution_count": null,
   "metadata": {},
   "outputs": [],
   "source": [
    "draw_df = df.loc[:,'B365D':'VCD':3].drop(df.index[0:df.shape[0]])\n",
    "draw_df['Index_'] = df.loc[:,'B365D':'VCD':3].columns\n",
    "draw_df = draw_df.set_index('Index_')\n",
    "None\n",
    "\n",
    "away_win_df = df.loc[:,'B365A':'VCA':3].drop(df.index[0:df.shape[0]])\n",
    "away_win_df['Index_'] = df.loc[:,'B365A':'VCA':3].columns\n",
    "away_win_df = away_win_df.set_index('Index_')\n",
    "None\n",
    "\n",
    "home_win_df = df.loc[:,'B365H':'VCH':3].drop(df.index[0:df.shape[0]])\n",
    "home_win_df['Index_'] = df.loc[:,'B365H':'VCH':3].columns\n",
    "home_win_df = home_win_df.set_index('Index_')\n",
    "None"
   ]
  },
  {
   "cell_type": "code",
   "execution_count": null,
   "metadata": {},
   "outputs": [],
   "source": [
    "columns =  df.loc[:,'B365D':'VCD':3].columns\n",
    "new_df = pd.DataFrame(0, index=np.arange(len(columns)), columns = columns)\n",
    "new_df.set_index(columns, inplace=True)\n",
    "new_df"
   ]
  },
  {
   "cell_type": "code",
   "execution_count": null,
   "metadata": {},
   "outputs": [],
   "source": [
    "for bookie_df in list_of_dataframes:\n",
    "    for bookie_1 in bookie_df:\n",
    "        for index, bookie_2 in enumerate(bookie_df):\n",
    "            x = df[bookie_1]\n",
    "            y = df[bookie_2]\n",
    "            ttest=stats.ttest_ind(x,y)\n",
    "            bookie_df[bookie_1].iloc[index] = ttest[1]*2\n",
    "\n",
    "    #Deletes repetive values to improve heatmap visualization\n",
    "    for i in range(bookie_df.shape[0]):\n",
    "        for j in range(bookie_df.shape[1]):\n",
    "            if j>=i:\n",
    "                bookie_df.iloc[i,j] = None\n",
    "\n",
    "#This loops through the bookies to conduct individual one-to-one ttests for \n",
    "#bookies across similar odds\n",
    "list_of_dataframes = [home_win_df, away_win_df, draw_df]\n",
    "\n",
    "for bookie_df in list_of_dataframes:\n",
    "    for bookie_1 in bookie_df:\n",
    "        for index, bookie_2 in enumerate(bookie_df):\n",
    "            x = df[bookie_1]\n",
    "            y = df[bookie_2]\n",
    "            ttest=stats.ttest_ind(x,y)\n",
    "            bookie_df[bookie_1].iloc[index] = ttest[1]*2\n",
    "\n",
    "    #Deletes repetive values to improve heatmap visualization\n",
    "    for i in range(bookie_df.shape[0]):\n",
    "        for j in range(bookie_df.shape[1]):\n",
    "            if j>=i:\n",
    "                bookie_df.iloc[i,j] = None"
   ]
  },
  {
   "cell_type": "code",
   "execution_count": null,
   "metadata": {
    "scrolled": false
   },
   "outputs": [],
   "source": [
    "df1d = df1.copy()\n",
    "df1test = df1d[['balance', 'strength', 'stamina', 'agility']]\n",
    "df1test=df1test.dropna()\n",
    "\n",
    "sm1.api.formula.ols\n",
    "\n",
    "for col in df1test:\n",
    "    formula = f'{col} ~ '  +' + '.join([column for column in df1test.drop(col, axis=1).columns])\n",
    "    print(formula)\n",
    "    model = sm1.api.formula.ols(formula, df1test).fit()\n",
    "    aov_table = sm.stats.anova_lm(model, typ=2)\n",
    "    print(aov_table)\n",
    "#     for col2 in df1test.drop(col, axis=1).columns:\n",
    "#         df1test.loc[col][col2] = aov_table.loc[col2]['PR(>F)']"
   ]
  },
  {
   "cell_type": "code",
   "execution_count": null,
   "metadata": {
    "scrolled": true
   },
   "outputs": [],
   "source": [
    "df1test1 = df1d[['strength', 'sprint_speed', 'acceleration']]\n",
    "df1test1=df1test1.dropna()\n",
    "for col in df1test1:\n",
    "    formula = f'{col} ~ '  +' + '.join([column for column in df1test1.drop(col, axis=1).columns])\n",
    "    print(formula)\n",
    "    model = sm1.api.formula.ols(formula, df1test1).fit()\n",
    "    aov_table = sm.stats.anova_lm(model, typ=2)\n",
    "    print(aov_table)"
   ]
  },
  {
   "cell_type": "code",
   "execution_count": null,
   "metadata": {},
   "outputs": [],
   "source": [
    "df1test2 = df1d[['gk_diving', 'gk_reflexes', 'ball_control']]\n",
    "df1test2=df1test2.dropna()\n",
    "for col in df1test2:\n",
    "    formula = f'{col} ~ '  +' + '.join([column for column in df1test2.drop(col, axis=1).columns])\n",
    "    print(formula)\n",
    "    model = sm1.api.formula.ols(formula, df1test2).fit()\n",
    "    aov_table = sm.stats.anova_lm(model, typ=2)\n",
    "    print(aov_table)"
   ]
  },
  {
   "cell_type": "code",
   "execution_count": null,
   "metadata": {},
   "outputs": [],
   "source": [
    "num = np.mean(a) - np.mean(b)\n",
    "s = np.var(a+b)\n",
    "n = len(a+b)\n",
    "denom = s/np.sqrt(n)\n",
    "t = num / denom\n",
    "pval = stats.t.sf(np.abs(t), n-1)*2\n",
    "print(pval)"
   ]
  },
  {
   "cell_type": "code",
   "execution_count": null,
   "metadata": {
    "scrolled": true
   },
   "outputs": [],
   "source": [
    "# Fitting a model of comparing goalkeeper kicking to the rest of the goalkeeping metrics\n",
    "# Using statsmodels to compute an ANOVA table\n",
    "lm = ols('gk_diving ~ gk_diving + gk_handling + gk_positioning + gk_reflexes + gk_kicking', df1).fit()\n",
    "sm.stats.anova_lm(lm, typ=2)\n"
   ]
  },
  {
   "cell_type": "code",
   "execution_count": null,
   "metadata": {
    "scrolled": true
   },
   "outputs": [],
   "source": [
    "#Now running ANOVA with log normalized values\n",
    "#PRESENT\n",
    "lm = ols('gk_diving ~ gk_diving + gk_handling + gk_positioning + gk_reflexes + gk_kicking', df1_log).fit()\n",
    "sm.stats.anova_lm(lm, typ=2)\n"
   ]
  },
  {
   "cell_type": "code",
   "execution_count": null,
   "metadata": {},
   "outputs": [],
   "source": [
    "# One-way ANOVA performed with SciPy\n",
    "stats.f_oneway(df1['gk_diving'], \n",
    "               df1['gk_handling'], \n",
    "               df1['gk_positioning'], \n",
    "               df1['gk_reflexes'], \n",
    "               df1['gk_kicking'])"
   ]
  },
  {
   "cell_type": "code",
   "execution_count": null,
   "metadata": {
    "scrolled": false
   },
   "outputs": [],
   "source": [
    "df1b[['finishing', 'shot_power', 'free_kick_accuracy']].isna().sum()\n"
   ]
  },
  {
   "cell_type": "code",
   "execution_count": null,
   "metadata": {},
   "outputs": [],
   "source": [
    "df1b = df1b[['finishing', 'shot_power', 'free_kick_accuracy']].dropna()\n"
   ]
  },
  {
   "cell_type": "code",
   "execution_count": null,
   "metadata": {
    "scrolled": true
   },
   "outputs": [],
   "source": [
    "df1b[['finishing', 'shot_power', 'free_kick_accuracy']].isna().sum()\n"
   ]
  },
  {
   "cell_type": "code",
   "execution_count": null,
   "metadata": {},
   "outputs": [],
   "source": [
    "# Log-transformation\n",
    "df1b_log = df1b.copy()\n",
    "df1b_log[['finishing', 'shot_power', 'free_kick_accuracy']] = \\\n",
    "np.log(df1b[['finishing', 'shot_power', 'free_kick_accuracy']])"
   ]
  },
  {
   "cell_type": "code",
   "execution_count": null,
   "metadata": {
    "scrolled": true
   },
   "outputs": [],
   "source": [
    "lm = ols('finishing ~ shot_power + free_kick_accuracy', df1b).fit()\n",
    "sm.stats.anova_lm(lm, typ=2)"
   ]
  },
  {
   "cell_type": "code",
   "execution_count": null,
   "metadata": {},
   "outputs": [],
   "source": [
    "lm = ols('shot_power ~ finishing + free_kick_accuracy', df1b_log).fit()\n",
    "sm.stats.anova_lm(lm, typ=2)"
   ]
  },
  {
   "cell_type": "code",
   "execution_count": null,
   "metadata": {},
   "outputs": [],
   "source": [
    "lm = ols('free_kick_accuracy ~ finishing + shot_power', df1b_log).fit()\n",
    "sm.stats.anova_lm(lm, typ=2)"
   ]
  },
  {
   "cell_type": "markdown",
   "metadata": {},
   "source": [
    "### Get summary statistics of columns of interest"
   ]
  },
  {
   "cell_type": "code",
   "execution_count": null,
   "metadata": {
    "scrolled": false
   },
   "outputs": [],
   "source": [
    "# Goals look good, no need to handle NaN's\n",
    "print(df[['home_team_api_id', 'away_team_api_id', 'home_team_goal', 'away_team_goal']].isna().sum())\n",
    "# Has some NaNs to be handled\n",
    "print(df1.shape)\n",
    "df1[['aggression', 'interceptions']].isna().sum()\n"
   ]
  },
  {
   "cell_type": "code",
   "execution_count": null,
   "metadata": {},
   "outputs": [],
   "source": [
    "#filling in missing values with mean\n",
    "\n",
    "df1.aggression.fillna((df1.aggression.mean()), inplace=True)\n",
    "df1.interceptions.fillna((df1.interceptions.mean()), inplace=True)"
   ]
  },
  {
   "cell_type": "code",
   "execution_count": null,
   "metadata": {},
   "outputs": [],
   "source": [
    "# df1.aggression.fillna((df1.aggression.mean()), inplace=True)\n",
    "df1.aggression[373]"
   ]
  },
  {
   "cell_type": "code",
   "execution_count": null,
   "metadata": {
    "scrolled": false
   },
   "outputs": [],
   "source": [
    "#Examining summary statistics of the four columns I plan to use\n",
    "print(df[['home_team_api_id', 'away_team_api_id', 'home_team_goal', 'away_team_goal']].describe())\n",
    "df1[['aggression', 'interceptions']].describe()"
   ]
  },
  {
   "cell_type": "code",
   "execution_count": null,
   "metadata": {},
   "outputs": [],
   "source": [
    "#All are integers\n",
    "print(df[['home_team_api_id', 'away_team_api_id', 'home_team_goal', 'away_team_goal']].info())\n",
    "#Both are Floats\n",
    "df1[['aggression', 'interceptions']].info()"
   ]
  },
  {
   "cell_type": "markdown",
   "metadata": {},
   "source": [
    "### Explore columns of interest visually"
   ]
  },
  {
   "cell_type": "code",
   "execution_count": null,
   "metadata": {
    "scrolled": true
   },
   "outputs": [],
   "source": [
    "\n",
    "graph = df[['home_team_api_id', 'away_team_api_id', 'home_team_goal', 'away_team_goal']].hist(figsize=(10,10))\n",
    "\n"
   ]
  },
  {
   "cell_type": "code",
   "execution_count": null,
   "metadata": {},
   "outputs": [],
   "source": [
    "# #will need to use log transformation for goal metrics to be able to conduct T-tests\n",
    "# graph = np.log(np.isfinite(df[['HomeWin', 'AwayWin']])).hist(figsize=(5,5), bins = 10)\n",
    "# #This is Boolean! As in the Home or Away win is either True or False. So, I will do a chisquared test instead.\n",
    "# #These two new columns are defined below"
   ]
  },
  {
   "cell_type": "code",
   "execution_count": null,
   "metadata": {},
   "outputs": [],
   "source": [
    "#This is a better candidate for a log transformation\n",
    "graph = df1[['aggression', 'interceptions']].hist(figsize =(5,5))"
   ]
  },
  {
   "cell_type": "code",
   "execution_count": null,
   "metadata": {},
   "outputs": [],
   "source": [
    "#is this an improvement toward a more normal distribution?\n",
    "graph = np.log(df1[['aggression', 'interceptions']]).hist(figsize =(5,5))"
   ]
  },
  {
   "cell_type": "code",
   "execution_count": null,
   "metadata": {
    "scrolled": true
   },
   "outputs": [],
   "source": [
    "#This overlay shows the correlation is basically what I hypothesize, but with an interesting uptick \n",
    "# in low numbers of interceptions\n",
    "sns.set(color_codes=True)\n",
    "sns.set(rc={'figure.figsize':(7,5)})\n",
    "sns.distplot(df1.aggression) # Blue distribution\n",
    "sns.distplot(df1.interceptions) # Orangey distribution\n",
    "\n",
    "i1 = df1.interceptions[:91989]\n",
    "i2 = df1.interceptions[91989:]\n",
    "#Mann-Whitney test here? It tests that the two distributions are the same, and my \n",
    "# alternative hypothesis would be that they are not\n",
    "#Also look into KS test, or a permutation test\n"
   ]
  },
  {
   "cell_type": "code",
   "execution_count": null,
   "metadata": {},
   "outputs": [],
   "source": [
    "Am = A/A.mean()\n",
    "Im = I/I.mean()\n",
    "sns.set(color_codes=True)\n",
    "sns.set(rc={'figure.figsize':(7,5)})\n",
    "sns.distplot(Am) # Blue distribution\n",
    "sns.distplot(Im) # Orangey distribution"
   ]
  },
  {
   "cell_type": "code",
   "execution_count": null,
   "metadata": {},
   "outputs": [],
   "source": [
    "sns.set(color_codes=True)\n",
    "sns.set(rc={'figure.figsize':(7,5)})\n",
    "sns.distplot(binary[0]) # Blue distribution\n",
    "sns.distplot(binary[1]) # Orangey distribution"
   ]
  },
  {
   "cell_type": "markdown",
   "metadata": {},
   "source": [
    "### Create columns for Home/Away/Draw\n",
    "#### Need to answer this question: Is there a statistical difference in the odds of winning a game when a team is playing in front of their home crowd?"
   ]
  },
  {
   "cell_type": "code",
   "execution_count": null,
   "metadata": {
    "scrolled": true
   },
   "outputs": [],
   "source": [
    "#Set up columns to see who won or lost or draw\n",
    "df['HomeWin']=df.home_team_goal>df.away_team_goal\n",
    "df['AwayWin']=df.away_team_goal>df.home_team_goal\n",
    "df['Draw']=df.home_team_goal==df.away_team_goal\n",
    "# print(len(df['HomeWin']))\n",
    "# print(len(df['AwayWin']))\n",
    "foo = df.groupby(df.home_team_api_id)\n",
    "foo2 = foo.groups\n",
    "\n",
    "\n",
    "# df.head()\n",
    "# foo = df.groupby(df.home_team_api_id)\n",
    "# x=foo.get_group(1601)\n",
    "# #Sets up columns to see who won or lost or draw\n",
    "\n",
    "# win_per = x.HomeWin.sum()/len(x.HomeWin)\n",
    "# windict = {}\n",
    "\n",
    "def getwinpercents(df):\n",
    "    win_dict={}\n",
    "    #for home wins\n",
    "    foo_home = df.groupby(df.home_team_api_id) #slice by home id\n",
    "    foo_away = df.groupby(df.away_team_api_id) #slice by away id\n",
    "    team_ids = list(foo.groups.keys()) #get individual team ids\n",
    "    #calculate and store home win percentages\n",
    "    for team in team_ids:\n",
    "        x=foo_home.get_group(team) #grab home wins\n",
    "        y=foo_away.get_group(team) #grab away wins\n",
    "        \n",
    "        home_per=x.HomeWin.sum()/len(x.HomeWin) #calculate\n",
    "        away_per=y.AwayWin.sum()/len(y.AwayWin)\n",
    "        draw_per=(1 - (home_per+away_per)) #seems to give draws as remaining percentages of games \n",
    "                                            #not marked as Home/Away wins,  but team5 has -.03% draws, might be\n",
    "                                            # rounding error\n",
    "        win_dict[team]=[home_per,away_per,draw_per] #store\n",
    "\n",
    "        \n",
    "        \n",
    "    win_df=pd.DataFrame(win_dict).T\n",
    "    return win_df\n",
    "\n",
    "per_df = getwinpercents(df)\n",
    "\n",
    "per_df.head()"
   ]
  },
  {
   "cell_type": "code",
   "execution_count": null,
   "metadata": {},
   "outputs": [],
   "source": [
    "def homewinbinary(df):\n",
    "    win_dict={}\n",
    "    #for home wins\n",
    "    foo_home = df.groupby(df.home_team_api_id) #slice by home id\n",
    "    foo_away = df.groupby(df.away_team_api_id) #slice by away id\n",
    "    team_ids = list(foo.groups.keys()) #get individual team ids\n",
    "    #calculate and store home win percentages\n",
    "    for team in team_ids:\n",
    "        x=foo_home.get_group(team) #grab home wins\n",
    "        y=foo_away.get_group(team) #grab everything else\n",
    "        \n",
    "        home_per=x.HomeWin.sum()/len(x.HomeWin) #calculate Home Wins\n",
    "        else_per=(1 - home_per) #calculate complement of Home Wins\n",
    "        \n",
    "        win_dict[team]=[home_per,else_per] #store\n",
    "\n",
    "        \n",
    "        \n",
    "    win_df=pd.DataFrame(win_dict).T\n",
    "    return win_df\n",
    "binary = homewinbinary(df)\n",
    "binary.head()"
   ]
  },
  {
   "cell_type": "code",
   "execution_count": 27,
   "metadata": {},
   "outputs": [
    {
     "data": {
      "text/plain": [
       "0.45871665576042187"
      ]
     },
     "execution_count": 27,
     "metadata": {},
     "output_type": "execute_result"
    }
   ],
   "source": [
    "#(From Joe)\n",
    "df.HomeWin.sum()/df.HomeWin.shape[0]"
   ]
  },
  {
   "cell_type": "code",
   "execution_count": 28,
   "metadata": {},
   "outputs": [
    {
     "data": {
      "text/plain": [
       "0.28738596558759"
      ]
     },
     "execution_count": 28,
     "metadata": {},
     "output_type": "execute_result"
    }
   ],
   "source": [
    "#The effect size of playing home/away appears to be substantial\n",
    "df.AwayWin.sum()/df.AwayWin.shape[0]"
   ]
  },
  {
   "cell_type": "code",
   "execution_count": null,
   "metadata": {},
   "outputs": [],
   "source": [
    "df.Draw.sum()/df.Draw.shape[0]"
   ]
  },
  {
   "cell_type": "code",
   "execution_count": null,
   "metadata": {},
   "outputs": [],
   "source": [
    "wins = df[['HomeWin', 'AwayWin', 'Draw']]"
   ]
  },
  {
   "cell_type": "markdown",
   "metadata": {},
   "source": [
    "### Trying out different kinds of statistical tests\n",
    "Look at two metrics associated with the offensive side of the game, interceptions and aggression, and test to see if they are positively correlated within a confidence interval of .05\n",
    "\n",
    "Do a Chisquared test and some others on HomeWin and AwayWin columns further below"
   ]
  },
  {
   "cell_type": "code",
   "execution_count": null,
   "metadata": {},
   "outputs": [],
   "source": [
    "df1[['gk_diving', 'gk_handling', 'gk_kicking', 'gk_positioning', 'gk_reflexes']].isna().sum()"
   ]
  },
  {
   "cell_type": "code",
   "execution_count": null,
   "metadata": {},
   "outputs": [],
   "source": [
    "df1 = df1[['gk_diving', 'gk_handling', 'gk_kicking', 'gk_positioning', 'gk_reflexes']].dropna()"
   ]
  },
  {
   "cell_type": "code",
   "execution_count": null,
   "metadata": {
    "scrolled": true
   },
   "outputs": [],
   "source": [
    "df1[['gk_diving', 'gk_handling', 'gk_kicking', 'gk_positioning', 'gk_reflexes']].isna().sum()"
   ]
  },
  {
   "cell_type": "code",
   "execution_count": null,
   "metadata": {},
   "outputs": [],
   "source": [
    "df1_log = df1.copy()\n",
    "df1_log[['gk_diving', 'gk_handling', 'gk_kicking', 'gk_positioning', 'gk_reflexes']] = np.log(df1[['gk_diving', 'gk_handling', 'gk_kicking', 'gk_positioning', 'gk_reflexes']])"
   ]
  },
  {
   "cell_type": "code",
   "execution_count": null,
   "metadata": {},
   "outputs": [],
   "source": [
    "sns.pairplot(df1_log)"
   ]
  },
  {
   "cell_type": "code",
   "execution_count": null,
   "metadata": {},
   "outputs": [],
   "source": [
    "sns.distplot(df1_log.gk_kicking)"
   ]
  },
  {
   "cell_type": "code",
   "execution_count": null,
   "metadata": {},
   "outputs": [],
   "source": [
    "df1.head()"
   ]
  },
  {
   "cell_type": "code",
   "execution_count": null,
   "metadata": {
    "scrolled": false
   },
   "outputs": [],
   "source": [
    "df1_log.head()"
   ]
  },
  {
   "cell_type": "code",
   "execution_count": null,
   "metadata": {
    "scrolled": false
   },
   "outputs": [],
   "source": [
    "df1_log.dtypes"
   ]
  },
  {
   "cell_type": "code",
   "execution_count": null,
   "metadata": {},
   "outputs": [],
   "source": [
    "type(df1_log)"
   ]
  },
  {
   "cell_type": "code",
   "execution_count": null,
   "metadata": {},
   "outputs": [],
   "source": [
    "# Plotting the distributions for the 5 goalie metrics before log-transformation\n",
    "plt.figure(figsize=(8,5))\n",
    "for skill in df1.columns:\n",
    "    sns.distplot((df1[skill]), hist_kws=dict(alpha=0.2))\n",
    "    plt.legend()\n",
    "    plt.xlabel('Goalie Metrics')"
   ]
  },
  {
   "cell_type": "code",
   "execution_count": null,
   "metadata": {
    "scrolled": true
   },
   "outputs": [],
   "source": [
    "# Plotting the distributions for the log-transformed data all on one graph together\n",
    "plt.figure(figsize=(8,5))\n",
    "for skill in df1_log.columns:\n",
    "    sns.distplot((df1_log[skill]), hist_kws=dict(alpha=0.2))\n",
    "    plt.legend()\n",
    "    plt.xlabel('Log Transformed Goalie Metrics')"
   ]
  },
  {
   "cell_type": "code",
   "execution_count": null,
   "metadata": {
    "scrolled": true
   },
   "outputs": [],
   "source": [
    "sns.distplot(df1['gk_diving'])"
   ]
  },
  {
   "cell_type": "code",
   "execution_count": null,
   "metadata": {
    "scrolled": false
   },
   "outputs": [],
   "source": [
    "sns.distplot(df1[['gk_handling']])"
   ]
  },
  {
   "cell_type": "code",
   "execution_count": null,
   "metadata": {
    "scrolled": false
   },
   "outputs": [],
   "source": [
    "sns.distplot(df1[['gk_kicking']])"
   ]
  },
  {
   "cell_type": "code",
   "execution_count": null,
   "metadata": {
    "scrolled": true
   },
   "outputs": [],
   "source": [
    "sns.distplot(df1[['gk_positioning']])"
   ]
  },
  {
   "cell_type": "code",
   "execution_count": null,
   "metadata": {},
   "outputs": [],
   "source": [
    "sns.distplot(df1[['gk_reflexes']])"
   ]
  },
  {
   "cell_type": "code",
   "execution_count": null,
   "metadata": {},
   "outputs": [],
   "source": [
    "# Fitting a model of comparing goalkeeper kicking to the rest of the goalkeeping metrics\n",
    "# Using statsmodels to compute an ANOVA table\n",
    "lm = ols('gk_kicking ~ gk_diving + gk_handling + gk_positioning + gk_reflexes + gk_kicking', df1).fit()\n",
    "sm.stats.anova_lm(lm, typ=2)"
   ]
  },
  {
   "cell_type": "code",
   "execution_count": null,
   "metadata": {},
   "outputs": [],
   "source": [
    "# Fitting a model of comparing goalkeeper kicking to the rest of the goalkeeping metrics\n",
    "# Using statsmodels to compute an ANOVA table\n",
    "lm = ols('gk_diving ~ gk_diving + gk_handling + gk_positioning + gk_reflexes + gk_kicking', df1).fit()\n",
    "sm.stats.anova_lm(lm, typ=2)"
   ]
  },
  {
   "cell_type": "code",
   "execution_count": null,
   "metadata": {},
   "outputs": [],
   "source": [
    "#Now running ANOVA with log normalized values\n",
    "lm = ols('gk_kicking ~ gk_diving + gk_handling + gk_positioning + gk_reflexes + gk_kicking', df1_log).fit()\n",
    "sm.stats.anova_lm(lm, typ=2)"
   ]
  },
  {
   "cell_type": "code",
   "execution_count": null,
   "metadata": {
    "scrolled": false
   },
   "outputs": [],
   "source": [
    "#Now running ANOVA with log normalized values\n",
    "lm = ols('gk_diving ~ gk_diving + gk_handling + gk_positioning + gk_reflexes + gk_kicking', df1_log).fit()\n",
    "sm.stats.anova_lm(lm, typ=2)"
   ]
  },
  {
   "cell_type": "code",
   "execution_count": null,
   "metadata": {},
   "outputs": [],
   "source": [
    "#Now running ANOVA with log normalized values\n",
    "lm = ols('gk_diving ~ gk_kicking', df1_log).fit()\n",
    "sm.stats.anova_lm(lm, typ=2)"
   ]
  },
  {
   "cell_type": "code",
   "execution_count": null,
   "metadata": {},
   "outputs": [],
   "source": [
    "stats.f_oneway(df1['gk_diving'], \n",
    "               df1['gk_handling'], \n",
    "               df1['gk_positioning'], \n",
    "               df1['gk_reflexes'], \n",
    "               df1['gk_kicking'])"
   ]
  },
  {
   "cell_type": "markdown",
   "metadata": {},
   "source": [
    "### First start out with a heatmap"
   ]
  },
  {
   "cell_type": "code",
   "execution_count": null,
   "metadata": {},
   "outputs": [],
   "source": [
    "wins = df[['HomeWin', 'AwayWin', 'Draw']]\n",
    "offense = df1[['aggression', 'interceptions']]"
   ]
  },
  {
   "cell_type": "code",
   "execution_count": null,
   "metadata": {},
   "outputs": [],
   "source": [
    "sns.heatmap(wins.corr(), annot=True, center=0);"
   ]
  },
  {
   "cell_type": "code",
   "execution_count": null,
   "metadata": {
    "scrolled": true
   },
   "outputs": [],
   "source": [
    "sns.heatmap(offense.corr(), annot=True, center=0);"
   ]
  },
  {
   "cell_type": "code",
   "execution_count": null,
   "metadata": {
    "scrolled": true
   },
   "outputs": [],
   "source": [
    "corr2 = df1b.select_dtypes(include =['float64','int64']).\\\n",
    "loc[:,df1b.select_dtypes(include =['float64','int64']).columns[3:]].corr()\n"
   ]
  },
  {
   "cell_type": "code",
   "execution_count": null,
   "metadata": {},
   "outputs": [],
   "source": [
    "df1.head()"
   ]
  },
  {
   "cell_type": "code",
   "execution_count": null,
   "metadata": {},
   "outputs": [],
   "source": [
    "#Deletes repetive values to improve heatmap visualization\n",
    "for i in range(corr2.shape[0]):\n",
    "    for j in range(corr2.shape[1]):\n",
    "        if j>=i:\n",
    "            corr2.iloc[i,j] = None"
   ]
  },
  {
   "cell_type": "code",
   "execution_count": null,
   "metadata": {},
   "outputs": [],
   "source": [
    "#all player attributes\n",
    "\n",
    "fig2,ax2 = plt.subplots(nrows = 1,ncols = 1)\n",
    "fig2.set_size_inches(w=24,h=24)\n",
    "sns.heatmap(corr2,annot = True,linewidths=0.5,ax = ax2)"
   ]
  },
  {
   "cell_type": "code",
   "execution_count": null,
   "metadata": {},
   "outputs": [],
   "source": []
  },
  {
   "cell_type": "code",
   "execution_count": null,
   "metadata": {
    "scrolled": true
   },
   "outputs": [],
   "source": [
    "fig6, ax6 = plt.subplots(nrows=5,ncols=7)\n",
    "fig6.set_size_inches(16,12)\n",
    "\n",
    "foo=df1.dropna()\n",
    "a=foo.select_dtypes(include=['float64']).columns[3:].tolist()\n",
    "a\n",
    "\n",
    "i=0\n",
    "for j in a:\n",
    "     b = foo[j]\n",
    "     sns.distplot(b, ax = ax6[int(i/7)][i%7])\n",
    "     i=i+1\n",
    "#     len(b)\n",
    "fig6.tight_layout()"
   ]
  },
  {
   "cell_type": "code",
   "execution_count": null,
   "metadata": {},
   "outputs": [],
   "source": [
    "fig7, ax7 = plt.subplots(nrows=5,ncols=7)\n",
    "fig7.set_size_inches(16,12)\n",
    "\n",
    "foo1=df1.dropna()\n",
    "a=foo1.select_dtypes(include=['float64']).columns[3:].tolist()\n",
    "a\n",
    "\n",
    "i=0\n",
    "for j in a:\n",
    "     b = foo1[j]\n",
    "     sns.boxplot(b, ax = ax7[int(i/7)][i%7])\n",
    "     i=i+1\n",
    "#     len(b)\n",
    "fig7.tight_layout()"
   ]
  },
  {
   "cell_type": "code",
   "execution_count": null,
   "metadata": {},
   "outputs": [],
   "source": [
    "df1.dtypes"
   ]
  },
  {
   "cell_type": "markdown",
   "metadata": {},
   "source": [
    "#### Independent Ttests - don't yield any meaningful insight, with or without log transformation"
   ]
  },
  {
   "cell_type": "code",
   "execution_count": null,
   "metadata": {},
   "outputs": [],
   "source": [
    "#https://machinelearningmastery.com/how-to-code-the-students-t-test-from-scratch-in-python/\n",
    "#https://www.sagepub.com/sites/default/files/upm-binaries/33663_Chapter4.pdf\n",
    "#consulted these resources for help with statistical helping\n",
    "\n",
    "#https://www.kaggle.com/efezinoerome/analyzing-soccer-data\n",
    "#http://www.statstutor.ac.uk/resources/uploaded/tutorsquickguidetostatistics.pdf\n",
    "#also consulted\n",
    "\n",
    "#https://math.stackexchange.com/questions/2173385/semantics-binomial-vs-binary\n",
    "\n",
    "# https://towardsdatascience.com/hypothesis-testing-in-the-northwind-dataset-using-anova-db3ab16b5eba"
   ]
  },
  {
   "cell_type": "code",
   "execution_count": null,
   "metadata": {
    "scrolled": true
   },
   "outputs": [],
   "source": [
    "#w/out Log Normalization\n",
    "x = df1.aggression\n",
    "y = df1.interceptions\n",
    "ttest=stats.ttest_ind(x,y)\n",
    "print('t-test independent', ttest)"
   ]
  },
  {
   "cell_type": "code",
   "execution_count": null,
   "metadata": {
    "scrolled": false
   },
   "outputs": [],
   "source": [
    "#w/ Log Normalization\n",
    "x = np.log(df1.aggression)\n",
    "y = np.log(df1.interceptions)\n",
    "ttest=stats.ttest_ind(x,y)\n",
    "print('t-test independent', ttest)"
   ]
  },
  {
   "cell_type": "code",
   "execution_count": null,
   "metadata": {},
   "outputs": [],
   "source": [
    "# '''\n",
    "# This is why neither is meaningful here: the population distribution of the aggression and interceptions\n",
    "# variables are not identical, they do not have identical variances. \n",
    "\n",
    "# Calculates the T-test for the means of *two independent* samples of scores.\n",
    "\n",
    "# This is a two-sided test for the null hypothesis that 2 independent samples\n",
    "# have identical average (expected) values. This test assumes that the\n",
    "# populations have identical variances by default.\n",
    "# '''"
   ]
  },
  {
   "cell_type": "markdown",
   "metadata": {},
   "source": [
    "#### two and one tailed t-tests on aggression and interceptions"
   ]
  },
  {
   "cell_type": "code",
   "execution_count": null,
   "metadata": {},
   "outputs": [],
   "source": [
    "A = df1.aggression\n",
    "I = df1.interceptions"
   ]
  },
  {
   "cell_type": "code",
   "execution_count": null,
   "metadata": {},
   "outputs": [],
   "source": [
    "H = df.HomeWin\n",
    "Aw = df.AwayWin"
   ]
  },
  {
   "cell_type": "code",
   "execution_count": null,
   "metadata": {},
   "outputs": [],
   "source": [
    "#Let's compare means here:\n",
    "meanA = df1.aggression.mean()\n",
    "meanI = df1.interceptions.mean()\n",
    "meanA-meanI"
   ]
  },
  {
   "cell_type": "code",
   "execution_count": null,
   "metadata": {},
   "outputs": [],
   "source": [
    "print(meanI)"
   ]
  },
  {
   "cell_type": "code",
   "execution_count": null,
   "metadata": {},
   "outputs": [],
   "source": [
    "print(meanA)"
   ]
  },
  {
   "cell_type": "code",
   "execution_count": null,
   "metadata": {},
   "outputs": [],
   "source": [
    "# getting standard errors\n",
    "se1, se2 = sem(df1.aggression), sem(df1.interceptions)"
   ]
  },
  {
   "cell_type": "code",
   "execution_count": null,
   "metadata": {},
   "outputs": [],
   "source": [
    "df1.interceptions.std()"
   ]
  },
  {
   "cell_type": "code",
   "execution_count": null,
   "metadata": {},
   "outputs": [],
   "source": [
    "df1.aggression.std()"
   ]
  },
  {
   "cell_type": "code",
   "execution_count": null,
   "metadata": {},
   "outputs": [],
   "source": [
    "# standard error on difference between samples\n",
    "sed = sqrt(se1**2.0 + se2**2.0)"
   ]
  },
  {
   "cell_type": "code",
   "execution_count": null,
   "metadata": {},
   "outputs": [],
   "source": [
    "# getting t-statistic\n",
    "t_stat = (meanA - meanI) / sed\n",
    "t_stat"
   ]
  },
  {
   "cell_type": "code",
   "execution_count": null,
   "metadata": {},
   "outputs": [],
   "source": [
    "#degrees of freedom\n",
    "degf = len(df1.aggression) + len(df1.interceptions) - 2"
   ]
  },
  {
   "cell_type": "code",
   "execution_count": null,
   "metadata": {},
   "outputs": [],
   "source": [
    "#critical value, .05\n",
    "cv = t.ppf(1.0 - .05, degf)\n",
    "cv"
   ]
  },
  {
   "cell_type": "code",
   "execution_count": null,
   "metadata": {},
   "outputs": [],
   "source": [
    "# p-value\n",
    "p = (1.0 - t.cdf(abs(t_stat), degf)) * 2.0\n",
    "p"
   ]
  },
  {
   "cell_type": "code",
   "execution_count": null,
   "metadata": {},
   "outputs": [],
   "source": [
    "def independent_ttest(data1, data2, alpha):\n",
    "\t# calculate means\n",
    "\tmean1, mean2 = data1.mean(), data2.mean()\n",
    "\t# calculate standard errors\n",
    "\tse1, se2 = sem(data1), sem(data2)\n",
    "\t# standard error on the difference between the samples\n",
    "\tsed = sqrt(se1**2.0 + se2**2.0)\n",
    "\t# calculate the t statistic\n",
    "\tt_stat = (mean1 - mean2) / sed\n",
    "\t# degrees of freedom\n",
    "\tdegf = len(data1) + len(data2) - 2\n",
    "\t# calculate the critical value\n",
    "\tcv = t.ppf(1.0 - alpha, degf)\n",
    "\t# calculate the p-value\n",
    "\tp = (1.0 - t.cdf(abs(t_stat), degf)) * 2.0\n",
    "\t# return everything\n",
    "\treturn t_stat, degf, cv, p\n",
    " \n",
    "# seed the random number generator\n",
    "seed(1)\n",
    "# generate two independent samples\n",
    "data1 = 5 * randn(100) + 50\n",
    "data2 = 5 * randn(100) + 51\n",
    "# calculate the t test\n",
    "alpha = 0.05\n",
    "t_stat, degf, cv, p = independent_ttest(data1, data2, alpha)\n",
    "print('t=%.3f, df=%d, cv=%.3f, p=%.3f' % (t_stat, degf, cv, p))\n",
    "# interpret via critical value\n",
    "if abs(t_stat) <= cv:\n",
    "\tprint('Accept null hypothesis that the means are equal.')\n",
    "else:\n",
    "\tprint('Reject the null hypothesis that the means are equal.')\n",
    "# interpret via p-value\n",
    "if p > alpha:\n",
    "\tprint('Accept null hypothesis that the means are equal.')\n",
    "else:\n",
    "\tprint('Reject the null hypothesis that the means are equal.')"
   ]
  },
  {
   "cell_type": "code",
   "execution_count": null,
   "metadata": {},
   "outputs": [],
   "source": [
    "def dependent_ttest(data1, data2, alpha):\n",
    "\t# calculate means\n",
    "\tmean1, mean2 = data1.mean(), data2.mean()\n",
    "\t# number of paired samples\n",
    "\tn = len(data1)\n",
    "\t# sum squared difference between observations\n",
    "\td1 = sum([(data1[i]-data2[i])**2 for i in range(n)])\n",
    "\t# sum difference between observations\n",
    "\td2 = sum([data1[i]-data2[i] for i in range(n)])\n",
    "\t# standard deviation of the difference between means\n",
    "\tsd = sqrt((d1 - (d2**2 / n)) / (n - 1))\n",
    "\t# standard error of the difference between the means\n",
    "\tsed = sd / sqrt(n)\n",
    "\t# calculate the t statistic\n",
    "\tt_stat = (mean1 - mean2) / sed\n",
    "\t# degrees of freedom\n",
    "\tdegf = n - 1\n",
    "\t# calculate the critical value\n",
    "\tcv = t.ppf(1.0 - alpha, degf)\n",
    "\t# calculate the p-value\n",
    "\tp = (1.0 - t.cdf(abs(t_stat), degf)) * 2.0\n",
    "\t# return everything\n",
    "\treturn t_stat, degf, cv, p\n",
    "\n",
    "\n",
    "# seed the random number generator\n",
    "seed(1)\n",
    "# generate two independent samples (pretend they are dependent)\n",
    "data1 = 5 * randn(100) + 50\n",
    "data2 = 5 * randn(100) + 51\n",
    "# calculate the t test\n",
    "alpha = 0.05\n",
    "t_stat, degf, cv, p = dependent_ttest(data1, data2, alpha)\n",
    "print('t=%.3f, df=%d, cv=%.3f, p=%.3f' % (t_stat, degf, cv, p))\n",
    "# interpret via critical value\n",
    "if abs(t_stat) <= cv:\n",
    "\tprint('Accept null hypothesis that the means are equal.')\n",
    "else:\n",
    "\tprint('Reject the null hypothesis that the means are equal.')\n",
    "# interpret via p-value\n",
    "if p > alpha:\n",
    "\tprint('Accept null hypothesis that the means are equal.')\n",
    "else:\n",
    "\tprint('Reject the null hypothesis that the means are equal.')"
   ]
  },
  {
   "cell_type": "code",
   "execution_count": null,
   "metadata": {
    "scrolled": false
   },
   "outputs": [],
   "source": [
    "def visualize_t(t_stat, n_control, n_experimental):\n",
    "\n",
    "    # initialize a matplotlib \"figure\"\n",
    "    fig = plt.figure(figsize=(8,5))\n",
    "    ax = fig.gca()\n",
    "    # generate points on the x axis between -4 and 4:\n",
    "    xs = np.linspace(-4,4,500)\n",
    "    # use stats.t.pdf to get values on the probability density function for the t-distribution\n",
    "    ys = stats.t.pdf(xs, (n_control+n_experimental)-2, 0, 1)\n",
    "    # Draw two sided boundary for critical-t\n",
    "    ax.plot(xs, ys, linewidth=3, color='darkred')\n",
    "\n",
    "    ax.axvline(t_stat, color='black', linestyle='--', lw=5)\n",
    "    ax.axvline(-t_stat, color='black', linestyle='--', lw=5)\n",
    "\n",
    "    plt.show()\n",
    "    return None\n",
    "\n",
    "n_cont = len(x)\n",
    "n_exp = len(y)\n",
    "v"
   ]
  },
  {
   "cell_type": "code",
   "execution_count": null,
   "metadata": {},
   "outputs": [],
   "source": [
    "visualize_t(-11.2591847895789, binary[0], binary[1])"
   ]
  },
  {
   "cell_type": "code",
   "execution_count": null,
   "metadata": {},
   "outputs": [],
   "source": []
  },
  {
   "cell_type": "code",
   "execution_count": null,
   "metadata": {
    "scrolled": true
   },
   "outputs": [],
   "source": [
    "independent_ttest(A, I, .05)"
   ]
  },
  {
   "cell_type": "code",
   "execution_count": null,
   "metadata": {},
   "outputs": [],
   "source": [
    "independent_ttest(A, above, .05)"
   ]
  },
  {
   "cell_type": "code",
   "execution_count": null,
   "metadata": {},
   "outputs": [],
   "source": [
    "independent_ttest(A, i2, .05)"
   ]
  },
  {
   "cell_type": "code",
   "execution_count": null,
   "metadata": {
    "scrolled": true
   },
   "outputs": [],
   "source": [
    "dependent_ttest(x, y .05)"
   ]
  },
  {
   "cell_type": "code",
   "execution_count": null,
   "metadata": {},
   "outputs": [],
   "source": [
    "independent_ttest(x, y, .05)"
   ]
  },
  {
   "cell_type": "code",
   "execution_count": null,
   "metadata": {
    "scrolled": true
   },
   "outputs": [],
   "source": [
    "sns.distplot(binary[0])"
   ]
  },
  {
   "cell_type": "code",
   "execution_count": null,
   "metadata": {},
   "outputs": [],
   "source": [
    "sns.distplot(binary[1])"
   ]
  },
  {
   "cell_type": "code",
   "execution_count": null,
   "metadata": {
    "scrolled": true
   },
   "outputs": [],
   "source": [
    "binary.head()"
   ]
  },
  {
   "cell_type": "code",
   "execution_count": null,
   "metadata": {
    "scrolled": true
   },
   "outputs": [],
   "source": [
    "independent_ttest(binary.iloc[:,0], binary.iloc[:,1], .05)"
   ]
  },
  {
   "cell_type": "code",
   "execution_count": null,
   "metadata": {},
   "outputs": [],
   "source": [
    "dependent_ttest(binary[0], binary[1], .05)"
   ]
  },
  {
   "cell_type": "code",
   "execution_count": null,
   "metadata": {},
   "outputs": [],
   "source": [
    "x = binary[0]\n",
    "y = binary[1]\n",
    "ttest=stats.ttest_ind(x,y)\n",
    "print('T-test independent, one tailed results: ', ttest)"
   ]
  },
  {
   "cell_type": "code",
   "execution_count": null,
   "metadata": {
    "scrolled": true
   },
   "outputs": [],
   "source": [
    "#This is a single t-test for one comparison between playing at home or not playing at home\n",
    "x = binary[0]\n",
    "y = binary[1]\n",
    "ttest=stats.ttest_ind(x,y)\n",
    "print('T-test independent, two tailed results: ', ttest[0], ttest[1]*2)"
   ]
  },
  {
   "cell_type": "code",
   "execution_count": null,
   "metadata": {},
   "outputs": [],
   "source": [
    "x = binary[0]\n",
    "y = binary[1]\n",
    "ttest=stats.ttest_ind(A,I)\n",
    "print('T-test independent, two tailed p-value: ', ttest[1]*2)"
   ]
  },
  {
   "cell_type": "code",
   "execution_count": null,
   "metadata": {
    "scrolled": true
   },
   "outputs": [],
   "source": [
    "x = binary[0]\n",
    "y = binary[1]\n",
    "ttest=stats.ttest_ind(A,I)\n",
    "print('T-test independent, one tailed p-value: ', ttest[1])"
   ]
  },
  {
   "cell_type": "code",
   "execution_count": null,
   "metadata": {
    "scrolled": true
   },
   "outputs": [],
   "source": [
    "ttest=stats.ttest_ind(A,above)\n",
    "print('T-test independent, one tailed p-value: ', ttest[1])\n",
    "print('T-test independent, two tailed p-value: ', ttest[1]*2)"
   ]
  },
  {
   "cell_type": "code",
   "execution_count": null,
   "metadata": {
    "scrolled": true
   },
   "outputs": [],
   "source": [
    "ttest=stats.ttest_ind(A,below)\n",
    "print('T-test independent, one tailed p-value: ', ttest[1])\n",
    "print('T-test independent, two tailed p-value: ', ttest[1]*2)"
   ]
  },
  {
   "cell_type": "code",
   "execution_count": null,
   "metadata": {},
   "outputs": [],
   "source": [
    "ttest=stats.ttest_rel(x,y)\n",
    "ttest"
   ]
  },
  {
   "cell_type": "markdown",
   "metadata": {},
   "source": [
    "### KS testing aggressive and interceptions"
   ]
  },
  {
   "cell_type": "code",
   "execution_count": null,
   "metadata": {},
   "outputs": [],
   "source": [
    "stats.kstest(np.log(A), 'norm')"
   ]
  },
  {
   "cell_type": "code",
   "execution_count": null,
   "metadata": {},
   "outputs": [],
   "source": [
    "stats.kstest(I, 'norm')"
   ]
  },
  {
   "cell_type": "code",
   "execution_count": null,
   "metadata": {},
   "outputs": [],
   "source": [
    "stats.kstest(stats.t.rvs(100,A),'norm')"
   ]
  },
  {
   "cell_type": "code",
   "execution_count": null,
   "metadata": {
    "scrolled": true
   },
   "outputs": [],
   "source": [
    "stats.kstest(stats.t.rvs(100,I),'norm')"
   ]
  },
  {
   "cell_type": "code",
   "execution_count": null,
   "metadata": {
    "scrolled": false
   },
   "outputs": [],
   "source": [
    "stats.kstest(stats.t.rvs(1,A),'norm')"
   ]
  },
  {
   "cell_type": "code",
   "execution_count": null,
   "metadata": {
    "scrolled": false
   },
   "outputs": [],
   "source": [
    "stats.kstest(stats.t.rvs(100,x),'norm')"
   ]
  },
  {
   "cell_type": "code",
   "execution_count": null,
   "metadata": {},
   "outputs": [],
   "source": [
    "stats.kstest(stats.t.rvs(1,y),'norm')"
   ]
  },
  {
   "cell_type": "code",
   "execution_count": null,
   "metadata": {
    "scrolled": true
   },
   "outputs": [],
   "source": [
    "rvs1 = stats.norm.rvs(A, loc=0., scale=1)\n",
    "rvs2 = stats.norm.rvs(I, loc=0.5, scale=1.5)\n",
    "stats.ks_2samp(rvs1, rvs2)"
   ]
  },
  {
   "cell_type": "code",
   "execution_count": null,
   "metadata": {},
   "outputs": [],
   "source": []
  },
  {
   "cell_type": "code",
   "execution_count": null,
   "metadata": {
    "scrolled": true
   },
   "outputs": [],
   "source": [
    "stats.mannwhitneyu(A,I)"
   ]
  },
  {
   "cell_type": "code",
   "execution_count": null,
   "metadata": {
    "scrolled": true
   },
   "outputs": [],
   "source": [
    "stats.mannwhitneyu(A,I,alternative='less')"
   ]
  },
  {
   "cell_type": "code",
   "execution_count": null,
   "metadata": {
    "scrolled": true
   },
   "outputs": [],
   "source": [
    "stats.mannwhitneyu(x,y,alternative='greater')"
   ]
  },
  {
   "cell_type": "code",
   "execution_count": null,
   "metadata": {
    "scrolled": true
   },
   "outputs": [],
   "source": [
    "stats.mannwhitneyu(x,y)"
   ]
  },
  {
   "cell_type": "code",
   "execution_count": null,
   "metadata": {
    "scrolled": true
   },
   "outputs": [],
   "source": [
    "stats.mannwhitneyu(A,below)"
   ]
  },
  {
   "cell_type": "code",
   "execution_count": null,
   "metadata": {},
   "outputs": [],
   "source": [
    "stats.mannwhitneyu(A,above)"
   ]
  },
  {
   "cell_type": "markdown",
   "metadata": {},
   "source": [
    "### permutation testing"
   ]
  },
  {
   "cell_type": "code",
   "execution_count": null,
   "metadata": {},
   "outputs": [],
   "source": [
    "A.shape"
   ]
  },
  {
   "cell_type": "code",
   "execution_count": null,
   "metadata": {},
   "outputs": [],
   "source": [
    "I.shape"
   ]
  },
  {
   "cell_type": "code",
   "execution_count": null,
   "metadata": {},
   "outputs": [],
   "source": [
    "theta_hat = A.mean() - I.mean()\n",
    "theta_hat"
   ]
  },
  {
   "cell_type": "code",
   "execution_count": null,
   "metadata": {},
   "outputs": [],
   "source": [
    "#create a function to run your permutation\n",
    "\n",
    "def run_permutation_test(pooled,sizeZ,sizeY,delta):\n",
    "    #randomize all the pooled data from arrays y and z\n",
    "    np.random.shuffle(pooled)\n",
    "    #grab data the length of z\n",
    "    starZ = pooled[:sizeZ]\n",
    "    #grab the rest of the data the length of y\n",
    "    starY = pooled[-sizeY:]\n",
    "    #find the difference in the mean\n",
    "    return starZ.mean() - starY.mean()"
   ]
  },
  {
   "cell_type": "code",
   "execution_count": null,
   "metadata": {},
   "outputs": [],
   "source": [
    "#using the full length of dataset breaks this, but using a reduced number of samples always just returns 0"
   ]
  },
  {
   "cell_type": "code",
   "execution_count": null,
   "metadata": {},
   "outputs": [],
   "source": [
    "pooled = np.hstack([A,I])\n",
    "delta = A.mean() - I.mean()\n",
    "numSamples = 1000\n",
    "estimates = np.array(list(map(lambda x: run_permutation_test(pooled,A.size,I.size,delta),range(numSamples))))\n",
    "diffCount = len(np.where(estimates < delta)[0])\n",
    "hat_sig_perm = 1.0 - (float(diffCount)/float(numSamples))\n",
    "hat_sig_perm"
   ]
  },
  {
   "cell_type": "code",
   "execution_count": null,
   "metadata": {},
   "outputs": [],
   "source": [
    "from mlxtend.evaluate import permutation_test\n",
    "\n",
    "p_value = permutation_test(A, I,\n",
    "                           method='approximate',\n",
    "                           num_rounds=10000,\n",
    "                           seed=0)\n",
    "print(p_value)b"
   ]
  },
  {
   "cell_type": "code",
   "execution_count": null,
   "metadata": {},
   "outputs": [],
   "source": []
  },
  {
   "cell_type": "markdown",
   "metadata": {},
   "source": [
    "### Welch's T-test"
   ]
  },
  {
   "cell_type": "code",
   "execution_count": null,
   "metadata": {},
   "outputs": [],
   "source": [
    "def welch_t(a, b):\n",
    "    \n",
    "    \"\"\" Calculate Welch's t statistic for two samples. \"\"\"\n",
    "\n",
    "    numerator = a.mean() - b.mean()\n",
    "    \n",
    "    # “ddof = Delta Degrees of Freedom”: the divisor used in the calculation is N - ddof, \n",
    "    #  where N represents the number of elements. By default ddof is zero.\n",
    "    \n",
    "    denominator = np.sqrt(a.var(ddof=1)/a.size + b.var(ddof=1)/b.size)\n",
    "    \n",
    "    return np.abs(numerator/denominator)\n",
    "\n",
    "welch_t(A, I)"
   ]
  },
  {
   "cell_type": "code",
   "execution_count": null,
   "metadata": {},
   "outputs": [],
   "source": [
    "welch_t(H, Aw)\n"
   ]
  },
  {
   "cell_type": "code",
   "execution_count": null,
   "metadata": {},
   "outputs": [],
   "source": [
    "welch_t(binary[0], binary[1])"
   ]
  },
  {
   "cell_type": "code",
   "execution_count": null,
   "metadata": {},
   "outputs": [],
   "source": [
    "welch_df(binary[0], binary[1])"
   ]
  },
  {
   "cell_type": "code",
   "execution_count": null,
   "metadata": {},
   "outputs": [],
   "source": [
    "p = 1 - stats.t.cdf(binary[0], binary[1])\n",
    "print(p[0:5])"
   ]
  },
  {
   "cell_type": "code",
   "execution_count": null,
   "metadata": {},
   "outputs": [],
   "source": [
    "def welch_df(a, b):\n",
    "    \n",
    "    \"\"\" Calculate the effective degrees of freedom for two samples. \"\"\"\n",
    "    \n",
    "    s1 = a.var(ddof=1) \n",
    "    s2 = b.var(ddof=1)\n",
    "    n1 = a.size\n",
    "    n2 = b.size\n",
    "    \n",
    "    numerator = (s1/n1 + s2/n2)**2\n",
    "    denominator = (s1/ n1)**2/(n1 - 1) + (s2/ n2)**2/(n2 - 1)\n",
    "    \n",
    "    return numerator/denominator\n",
    "\n",
    "welch_df(A, I)"
   ]
  },
  {
   "cell_type": "code",
   "execution_count": null,
   "metadata": {
    "scrolled": true
   },
   "outputs": [],
   "source": [
    "welch_df(H, Aw)"
   ]
  },
  {
   "cell_type": "code",
   "execution_count": null,
   "metadata": {},
   "outputs": [],
   "source": [
    "# is the t here part of SciPy's stat's model? it would appear to be\n",
    "p = 1 - stats.t.cdf(A, I)\n",
    "print(p)"
   ]
  },
  {
   "cell_type": "code",
   "execution_count": null,
   "metadata": {},
   "outputs": [],
   "source": [
    "p = 1 - stats.t.cdf(H, Aw)\n",
    "print(p)"
   ]
  },
  {
   "cell_type": "markdown",
   "metadata": {},
   "source": [
    "### Effect size and the binomial distribution of interceptions"
   ]
  },
  {
   "cell_type": "code",
   "execution_count": null,
   "metadata": {},
   "outputs": [],
   "source": [
    "print(below.describe())\n",
    "above.describe()"
   ]
  },
  {
   "cell_type": "code",
   "execution_count": null,
   "metadata": {},
   "outputs": [],
   "source": [
    "183978/2"
   ]
  },
  {
   "cell_type": "code",
   "execution_count": null,
   "metadata": {},
   "outputs": [],
   "source": [
    "I.mean()"
   ]
  },
  {
   "cell_type": "code",
   "execution_count": null,
   "metadata": {},
   "outputs": [],
   "source": [
    "above = []\n",
    "below = []\n",
    "for item in I:\n",
    "    if item>=I.mean():\n",
    "        above.append(item)\n",
    "    else:\n",
    "        below.append(item)\n",
    "    \n",
    "    "
   ]
  },
  {
   "cell_type": "code",
   "execution_count": null,
   "metadata": {},
   "outputs": [],
   "source": [
    "sns.distplot(above)"
   ]
  },
  {
   "cell_type": "code",
   "execution_count": null,
   "metadata": {},
   "outputs": [],
   "source": [
    "sns.distplot(below)"
   ]
  },
  {
   "cell_type": "code",
   "execution_count": null,
   "metadata": {},
   "outputs": [],
   "source": [
    "aggression_binomial = []\n",
    "for item in df1.aggression:\n",
    "    if item>=A.mean():\n",
    "        aggression_binomial.append(1)\n",
    "    else:\n",
    "        aggression_binomial.append(0)\n",
    "#don't need"
   ]
  },
  {
   "cell_type": "code",
   "execution_count": null,
   "metadata": {},
   "outputs": [],
   "source": [
    "sum(I_binomial)/len(I_binomial)"
   ]
  },
  {
   "cell_type": "code",
   "execution_count": null,
   "metadata": {},
   "outputs": [],
   "source": [
    "result = stats.binom_test(sum(I_binomial), len(I_binomial), .58, alternative='two-sided')\n",
    "\n",
    "print(f'The p-value for this two-sided binomial test is {result}')\n",
    "print('Therefore, the null hypothesis that these the binomial distribution of the interceptions metric')\n",
    "print(f\"was {('rejected' if result<=.05 else 'not rejected')} at the .95 level of confindence.\")"
   ]
  },
  {
   "cell_type": "code",
   "execution_count": null,
   "metadata": {},
   "outputs": [],
   "source": [
    "result = stats.binom_test(sum(interceptions_binomial), len(interceptions_binomial), .2, alternative='two-sided')\n",
    "\n",
    "print(f'The p-value for this two-sided binomial test is {result}')\n",
    "print('Therefore, the null hypothesis that these the binomial distribution of the interceptions metric')\n",
    "print(f\"was {('rejected' if result<=.05 else 'not rejected')} at the .95 level of confindence.\")"
   ]
  },
  {
   "cell_type": "code",
   "execution_count": null,
   "metadata": {},
   "outputs": [],
   "source": [
    "stats.binom_test(sum(aggression_binomial), len(aggression_binomial), .7, alternative='two-sided')"
   ]
  },
  {
   "cell_type": "code",
   "execution_count": null,
   "metadata": {},
   "outputs": [],
   "source": [
    "I_binomial = []\n",
    "for item in df1.interceptions:\n",
    "    if item>=I.mean():\n",
    "        I_binomial.append(1)\n",
    "    else:\n",
    "        I_binomial.append(0)\n",
    "        "
   ]
  },
  {
   "cell_type": "code",
   "execution_count": null,
   "metadata": {
    "scrolled": true
   },
   "outputs": [],
   "source": [
    "independent_ttest(H, Aw, alpha)"
   ]
  },
  {
   "cell_type": "code",
   "execution_count": null,
   "metadata": {},
   "outputs": [],
   "source": [
    "sns.distplot(I_binomial)"
   ]
  },
  {
   "cell_type": "markdown",
   "metadata": {},
   "source": [
    "### questions for Rachel"
   ]
  },
  {
   "cell_type": "code",
   "execution_count": null,
   "metadata": {},
   "outputs": [],
   "source": [
    "# could I use welch's ttest to test each of part of the interceptions binomial division \n",
    "#against the aggression binomial? (first ask if the code below is correct for creating the binomial)\n",
    "#how do PDF's or CDF's factor into this?\n",
    "\n",
    "#Could I test the effect size of each part of the interceptions binomial?\n",
    "\n",
    "#my measures of statistical significance of win percentage for playing in from of home crowd or not\n",
    "#are returning really low p-values in multiple measures (MannWhitney, related/dependent ttest, \n",
    "#2 & 1tailed independent and in KS, but the aggression and interceptions are returning 0 for pvalues except when I \n",
    "#make them into binomials and run a binomial test\n"
   ]
  },
  {
   "cell_type": "code",
   "execution_count": null,
   "metadata": {},
   "outputs": [],
   "source": [
    "sns.set(color_codes=True)\n",
    "sns.set(rc={'figure.figsize':(7,5)})\n",
    "sns.distplot(df1.aggression) # Blue distribution\n",
    "sns.distplot(df1.interceptions) # Orangey distribution"
   ]
  },
  {
   "cell_type": "code",
   "execution_count": null,
   "metadata": {},
   "outputs": [],
   "source": [
    "# Rachel's steps:"
   ]
  },
  {
   "cell_type": "code",
   "execution_count": null,
   "metadata": {
    "scrolled": false
   },
   "outputs": [],
   "source": [
    "Agg = stats.kstest(stats.t.rvs(1,above),'norm')\n",
    "Agg"
   ]
  },
  {
   "cell_type": "code",
   "execution_count": null,
   "metadata": {},
   "outputs": [],
   "source": [
    "Int = stats.kstest(stats.t.rvs(1,I),'norm')\n",
    "Int"
   ]
  },
  {
   "cell_type": "code",
   "execution_count": null,
   "metadata": {
    "scrolled": true
   },
   "outputs": [],
   "source": [
    "rvs1 = stats.norm.rvs(above, loc=0., scale=1)"
   ]
  },
  {
   "cell_type": "code",
   "execution_count": null,
   "metadata": {},
   "outputs": [],
   "source": [
    "rvs1 = stats.norm.rvs(Agg, loc=0.5, scale=1.5)\n",
    "rvs2 = stats.norm.rvs(Int, loc=0.5, scale=1.5)\n",
    "stats.ks_2samp(rvs1, rvs2)"
   ]
  },
  {
   "cell_type": "code",
   "execution_count": null,
   "metadata": {},
   "outputs": [],
   "source": [
    "stats.bartlett(above, I)"
   ]
  },
  {
   "cell_type": "code",
   "execution_count": null,
   "metadata": {},
   "outputs": [],
   "source": [
    "stats.levene(above, I)"
   ]
  },
  {
   "cell_type": "code",
   "execution_count": null,
   "metadata": {},
   "outputs": [],
   "source": [
    "stats.levene(above, I, 'median')"
   ]
  },
  {
   "cell_type": "code",
   "execution_count": null,
   "metadata": {},
   "outputs": [],
   "source": [
    "ttest=stats.ttest_ind(above, A)\n",
    "print('T-test independent, one tailed p-value: ', ttest[1])\n",
    "print('T-test independent, two tailed p-value: ', ttest[1]*2)"
   ]
  },
  {
   "cell_type": "code",
   "execution_count": null,
   "metadata": {},
   "outputs": [],
   "source": [
    "stats.mannwhitneyu(above, I)"
   ]
  },
  {
   "cell_type": "code",
   "execution_count": null,
   "metadata": {},
   "outputs": [],
   "source": [
    "stats.mannwhitneyu(above, I, alternative='less')"
   ]
  },
  {
   "cell_type": "code",
   "execution_count": null,
   "metadata": {},
   "outputs": [],
   "source": [
    "stats.mannwhitneyu(above, I, alternative='greater')"
   ]
  },
  {
   "cell_type": "code",
   "execution_count": null,
   "metadata": {},
   "outputs": [],
   "source": [
    "stats.wilcoxon(above, I)"
   ]
  },
  {
   "cell_type": "code",
   "execution_count": null,
   "metadata": {},
   "outputs": [],
   "source": []
  }
 ],
 "metadata": {
  "kernelspec": {
   "display_name": "Python 3",
   "language": "python",
   "name": "python3"
  },
  "language_info": {
   "codemirror_mode": {
    "name": "ipython",
    "version": 3
   },
   "file_extension": ".py",
   "mimetype": "text/x-python",
   "name": "python",
   "nbconvert_exporter": "python",
   "pygments_lexer": "ipython3",
   "version": "3.7.3"
  }
 },
 "nbformat": 4,
 "nbformat_minor": 2
}
